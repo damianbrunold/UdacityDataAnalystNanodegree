{
 "cells": [
  {
   "cell_type": "markdown",
   "metadata": {},
   "source": [
    "# Enron POI Classifier EDA"
   ]
  },
  {
   "cell_type": "markdown",
   "metadata": {},
   "source": [
    "## Initializing and checking versions"
   ]
  },
  {
   "cell_type": "code",
   "execution_count": 3,
   "metadata": {
    "collapsed": false
   },
   "outputs": [
    {
     "name": "stdout",
     "output_type": "stream",
     "text": [
      "C:\\Users\\damia\\OneDrive\\Dokumente\\Udacity\\DataAnalyst\\EnronFinal\\final_project\n",
      "sklearn 0.17.1\n",
      "python 2.7.12 |Anaconda 4.1.1 (64-bit)| (default, Jun 29 2016, 11:07:13) [MSC v.1500 64 bit (AMD64)]\n"
     ]
    }
   ],
   "source": [
    "%cd C:\\Users\\damia\\OneDrive\\Dokumente\\Udacity\\DataAnalyst\\EnronFinal\\final_project\n",
    "import sys\n",
    "import sklearn\n",
    "print \"sklearn\", sklearn.__version__\n",
    "print \"python\", sys.version"
   ]
  },
  {
   "cell_type": "markdown",
   "metadata": {},
   "source": [
    "## Loading and exploring the data"
   ]
  },
  {
   "cell_type": "code",
   "execution_count": 4,
   "metadata": {
    "collapsed": false
   },
   "outputs": [],
   "source": [
    "import sys\n",
    "import pickle\n",
    "with open(\"final_project_dataset.pkl\", \"r\") as data_file:\n",
    "    data_dict = pickle.load(data_file)"
   ]
  },
  {
   "cell_type": "markdown",
   "metadata": {},
   "source": [
    "### Remove outlier \"TOTAL\" data point"
   ]
  },
  {
   "cell_type": "markdown",
   "metadata": {},
   "source": [
    "We saw in the course, that the financial data contains a total row. This creates an obvious outlier. We remove it because it is non-sensical for our purpose."
   ]
  },
  {
   "cell_type": "code",
   "execution_count": 5,
   "metadata": {
    "collapsed": true
   },
   "outputs": [],
   "source": [
    "del data_dict['TOTAL']"
   ]
  },
  {
   "cell_type": "markdown",
   "metadata": {},
   "source": [
    "### Number of data points"
   ]
  },
  {
   "cell_type": "code",
   "execution_count": 6,
   "metadata": {
    "collapsed": false
   },
   "outputs": [
    {
     "name": "stdout",
     "output_type": "stream",
     "text": [
      "145\n"
     ]
    }
   ],
   "source": [
    "N = len(data_dict)\n",
    "print N"
   ]
  },
  {
   "cell_type": "markdown",
   "metadata": {},
   "source": [
    "### Number of POI data point"
   ]
  },
  {
   "cell_type": "code",
   "execution_count": 7,
   "metadata": {
    "collapsed": false
   },
   "outputs": [
    {
     "name": "stdout",
     "output_type": "stream",
     "text": [
      "18\n"
     ]
    }
   ],
   "source": [
    "n = sum([1 if d['poi'] else 0 for d in data_dict.values()])\n",
    "print n"
   ]
  },
  {
   "cell_type": "markdown",
   "metadata": {},
   "source": [
    "### Percentage of POI data points"
   ]
  },
  {
   "cell_type": "code",
   "execution_count": 8,
   "metadata": {
    "collapsed": false
   },
   "outputs": [
    {
     "data": {
      "text/plain": [
       "0.12413793103448276"
      ]
     },
     "execution_count": 8,
     "metadata": {},
     "output_type": "execute_result"
    }
   ],
   "source": [
    "1.0 * n / N"
   ]
  },
  {
   "cell_type": "markdown",
   "metadata": {},
   "source": [
    "We see that we have a limited amount of data and the two classes poi/non-poi are highly unbalanced. This implies that we cannot use accuracy as performance metric in our model and that we have to use some sort of randomized cross-validation in order to get reliable performance measures."
   ]
  },
  {
   "cell_type": "markdown",
   "metadata": {},
   "source": [
    "### Number of features (including label)"
   ]
  },
  {
   "cell_type": "code",
   "execution_count": 9,
   "metadata": {
    "collapsed": false
   },
   "outputs": [
    {
     "data": {
      "text/plain": [
       "21"
      ]
     },
     "execution_count": 9,
     "metadata": {},
     "output_type": "execute_result"
    }
   ],
   "source": [
    "len(data_dict['ALLEN PHILLIP K'].keys())"
   ]
  },
  {
   "cell_type": "markdown",
   "metadata": {},
   "source": [
    "### Names of Persons"
   ]
  },
  {
   "cell_type": "code",
   "execution_count": 11,
   "metadata": {
    "collapsed": false
   },
   "outputs": [
    {
     "name": "stdout",
     "output_type": "stream",
     "text": [
      "ALLEN PHILLIP K\n",
      "BADUM JAMES P\n",
      "BANNANTINE JAMES M\n",
      "BAXTER JOHN C\n",
      "BAY FRANKLIN R\n",
      "BAZELIDES PHILIP J\n",
      "BECK SALLY W\n",
      "BELDEN TIMOTHY N\n",
      "BELFER ROBERT\n",
      "BERBERIAN DAVID\n",
      "BERGSIEKER RICHARD P\n",
      "BHATNAGAR SANJAY\n",
      "BIBI PHILIPPE A\n",
      "BLACHMAN JEREMY M\n",
      "BLAKE JR. NORMAN P\n",
      "BOWEN JR RAYMOND M\n",
      "BROWN MICHAEL\n",
      "BUCHANAN HAROLD G\n",
      "BUTTS ROBERT H\n",
      "BUY RICHARD B\n",
      "CALGER CHRISTOPHER F\n",
      "CARTER REBECCA C\n",
      "CAUSEY RICHARD A\n",
      "CHAN RONNIE\n",
      "CHRISTODOULOU DIOMEDES\n",
      "CLINE KENNETH W\n",
      "COLWELL WESLEY\n",
      "CORDES WILLIAM R\n",
      "COX DAVID\n",
      "CUMBERLAND MICHAEL S\n",
      "DEFFNER JOSEPH M\n",
      "DELAINEY DAVID W\n",
      "DERRICK JR. JAMES V\n",
      "DETMERING TIMOTHY J\n",
      "DIETRICH JANET R\n",
      "DIMICHELE RICHARD G\n",
      "DODSON KEITH\n",
      "DONAHUE JR JEFFREY M\n",
      "DUNCAN JOHN H\n",
      "DURAN WILLIAM D\n",
      "ECHOLS JOHN B\n",
      "ELLIOTT STEVEN\n",
      "FALLON JAMES B\n",
      "FASTOW ANDREW S\n",
      "FITZGERALD JAY L\n",
      "FOWLER PEGGY\n",
      "FOY JOE\n",
      "FREVERT MARK A\n",
      "FUGH JOHN L\n",
      "GAHN ROBERT S\n",
      "GARLAND C KEVIN\n",
      "GATHMANN WILLIAM D\n",
      "GIBBS DANA R\n",
      "GILLIS JOHN\n",
      "GLISAN JR BEN F\n",
      "GOLD JOSEPH\n",
      "GRAMM WENDY L\n",
      "GRAY RODNEY\n",
      "HAEDICKE MARK E\n",
      "HANNON KEVIN P\n",
      "HAUG DAVID L\n",
      "HAYES ROBERT E\n",
      "HAYSLETT RODERICK J\n",
      "HERMANN ROBERT J\n",
      "HICKERSON GARY J\n",
      "HIRKO JOSEPH\n",
      "HORTON STANLEY C\n",
      "HUGHES JAMES A\n",
      "HUMPHREY GENE E\n",
      "IZZO LAWRENCE L\n",
      "JACKSON CHARLENE R\n",
      "JAEDICKE ROBERT\n",
      "KAMINSKI WINCENTY J\n",
      "KEAN STEVEN J\n",
      "KISHKILL JOSEPH G\n",
      "KITCHEN LOUISE\n",
      "KOENIG MARK E\n",
      "KOPPER MICHAEL J\n",
      "LAVORATO JOHN J\n",
      "LAY KENNETH L\n",
      "LEFF DANIEL P\n",
      "LEMAISTRE CHARLES\n",
      "LEWIS RICHARD\n",
      "LINDHOLM TOD A\n",
      "LOCKHART EUGENE E\n",
      "LOWRY CHARLES P\n",
      "MARTIN AMANDA K\n",
      "MCCARTY DANNY J\n",
      "MCCLELLAN GEORGE\n",
      "MCCONNELL MICHAEL S\n",
      "MCDONALD REBECCA\n",
      "MCMAHON JEFFREY\n",
      "MENDELSOHN JOHN\n",
      "METTS MARK\n",
      "MEYER JEROME J\n",
      "MEYER ROCKFORD G\n",
      "MORAN MICHAEL P\n",
      "MORDAUNT KRISTINA M\n",
      "MULLER MARK S\n",
      "MURRAY JULIA H\n",
      "NOLES JAMES L\n",
      "OLSON CINDY K\n",
      "OVERDYKE JR JERE C\n",
      "PAI LOU L\n",
      "PEREIRA PAULO V. FERRAZ\n",
      "PICKERING MARK R\n",
      "PIPER GREGORY F\n",
      "PIRO JIM\n",
      "POWERS WILLIAM\n",
      "PRENTICE JAMES\n",
      "REDMOND BRIAN L\n",
      "REYNOLDS LAWRENCE\n",
      "RICE KENNETH D\n",
      "RIEKER PAULA H\n",
      "SAVAGE FRANK\n",
      "SCRIMSHAW MATTHEW\n",
      "SHANKMAN JEFFREY A\n",
      "SHAPIRO RICHARD S\n",
      "SHARP VICTORIA T\n",
      "SHELBY REX\n",
      "SHERRICK JEFFREY B\n",
      "SHERRIFF JOHN R\n",
      "SKILLING JEFFREY K\n",
      "STABLER FRANK\n",
      "SULLIVAN-SHAKLOVITZ COLLEEN\n",
      "SUNDE MARTIN\n",
      "TAYLOR MITCHELL S\n",
      "THE TRAVEL AGENCY IN THE PARK\n",
      "THORN TERENCE H\n",
      "TILNEY ELIZABETH A\n",
      "UMANOFF ADAM S\n",
      "URQUHART JOHN A\n",
      "WAKEHAM JOHN\n",
      "WALLS JR ROBERT H\n",
      "WALTERS GARETH W\n",
      "WASAFF GEORGE\n",
      "WESTFAHL RICHARD K\n",
      "WHALEY DAVID A\n",
      "WHALLEY LAWRENCE G\n",
      "WHITE JR THOMAS E\n",
      "WINOKUR JR. HERBERT S\n",
      "WODRASKA JOHN\n",
      "WROBEL BRUCE\n",
      "YEAGER F SCOTT\n",
      "YEAP SOON\n"
     ]
    }
   ],
   "source": [
    "print \"\\n\".join(sorted(data_dict.keys()))"
   ]
  },
  {
   "cell_type": "markdown",
   "metadata": {},
   "source": [
    "### Lets look at 'The travel agency in the park'"
   ]
  },
  {
   "cell_type": "code",
   "execution_count": 14,
   "metadata": {
    "collapsed": false
   },
   "outputs": [
    {
     "data": {
      "text/plain": [
       "[('bonus', 'NaN'), ('deferral_payments', 'NaN'), ('deferred_income', 'NaN'), ('director_fees', 'NaN'), ('email_address', 'NaN'), ('exercised_stock_options', 'NaN'), ('expenses', 'NaN'), ('from_messages', 'NaN'), ('from_poi_to_this_person', 'NaN'), ('from_this_person_to_poi', 'NaN'), ('loan_advances', 'NaN'), ('long_term_incentive', 'NaN'), ('other', 362096), ('poi', False), ('restricted_stock', 'NaN'), ('restricted_stock_deferred', 'NaN'), ('salary', 'NaN'), ('shared_receipt_with_poi', 'NaN'), ('to_messages', 'NaN'), ('total_payments', 362096), ('total_stock_value', 'NaN')]"
      ]
     },
     "execution_count": 14,
     "metadata": {},
     "output_type": "execute_result"
    }
   ],
   "source": [
    "sorted(data_dict['THE TRAVEL AGENCY IN THE PARK'].items())"
   ]
  },
  {
   "cell_type": "markdown",
   "metadata": {},
   "source": [
    "It looks like this is not relevant for our purposes, as it is not a person and also not a POI. So lets remove it. (The insider PDF also has a footnote regarding this data point.)"
   ]
  },
  {
   "cell_type": "code",
   "execution_count": 15,
   "metadata": {
    "collapsed": true
   },
   "outputs": [],
   "source": [
    "del data_dict['THE TRAVEL AGENCY IN THE PARK']"
   ]
  },
  {
   "cell_type": "markdown",
   "metadata": {},
   "source": [
    "### Lets look at one person"
   ]
  },
  {
   "cell_type": "code",
   "execution_count": 18,
   "metadata": {
    "collapsed": false
   },
   "outputs": [
    {
     "data": {
      "text/plain": [
       "[('bonus', 4175000), ('deferral_payments', 2869717), ('deferred_income', -3081055), ('director_fees', 'NaN'), ('email_address', 'phillip.allen@enron.com'), ('exercised_stock_options', 1729541), ('expenses', 13868), ('from_messages', 2195), ('from_poi_to_this_person', 47), ('from_this_person_to_poi', 65), ('loan_advances', 'NaN'), ('long_term_incentive', 304805), ('other', 152), ('poi', False), ('restricted_stock', 126027), ('restricted_stock_deferred', -126027), ('salary', 201955), ('shared_receipt_with_poi', 1407), ('to_messages', 2902), ('total_payments', 4484442), ('total_stock_value', 1729541)]"
      ]
     },
     "execution_count": 18,
     "metadata": {},
     "output_type": "execute_result"
    }
   ],
   "source": [
    "sorted(data_dict['ALLEN PHILLIP K'].items())"
   ]
  },
  {
   "cell_type": "markdown",
   "metadata": {},
   "source": [
    "### Check calcluation of total payments"
   ]
  },
  {
   "cell_type": "code",
   "execution_count": 24,
   "metadata": {
    "collapsed": false
   },
   "outputs": [
    {
     "name": "stdout",
     "output_type": "stream",
     "text": [
      "BELFER ROBERT total payments difference, calculated -99215 != data 102500\n",
      "BELFER ROBERT total stock value difference, calculated 47378 != data -44093\n",
      "BHATNAGAR SANJAY total payments difference, calculated 275728 != data 15456290\n",
      "BHATNAGAR SANJAY total stock value difference, calculated 15456290 != data 0\n"
     ]
    }
   ],
   "source": [
    "def val(value):\n",
    "    if value == 'NaN': return 0\n",
    "    return int(value)\n",
    "\n",
    "def check_inconsistencies():\n",
    "    for name, data in sorted(data_dict.items()):\n",
    "        total_payments = val(data['salary'])\n",
    "        total_payments += val(data['bonus'])\n",
    "        total_payments += val(data['long_term_incentive'])\n",
    "        total_payments += val(data['deferred_income'])\n",
    "        total_payments += val(data['deferral_payments'])\n",
    "        total_payments += val(data['loan_advances'])\n",
    "        total_payments += val(data['other'])\n",
    "        total_payments += val(data['expenses'])\n",
    "        total_payments += val(data['director_fees'])\n",
    "        if total_payments != val(data['total_payments']):\n",
    "            print name, 'total payments difference, calculated', total_payments, '!= data', val(data['total_payments'])\n",
    "        total_stock_value = val(data['exercised_stock_options'])\n",
    "        total_stock_value += val(data['restricted_stock'])\n",
    "        total_stock_value += val(data['restricted_stock_deferred'])\n",
    "        if total_stock_value != val(data['total_stock_value']):\n",
    "            print name, 'total stock value difference, calculated', total_stock_value, '!= data', val(data['total_stock_value'])\n",
    "\n",
    "check_inconsistencies()"
   ]
  },
  {
   "cell_type": "code",
   "execution_count": 22,
   "metadata": {
    "collapsed": false
   },
   "outputs": [
    {
     "data": {
      "text/plain": [
       "[('bonus', 'NaN'), ('deferral_payments', -102500), ('deferred_income', 'NaN'), ('director_fees', 3285), ('email_address', 'NaN'), ('exercised_stock_options', 3285), ('expenses', 'NaN'), ('from_messages', 'NaN'), ('from_poi_to_this_person', 'NaN'), ('from_this_person_to_poi', 'NaN'), ('loan_advances', 'NaN'), ('long_term_incentive', 'NaN'), ('other', 'NaN'), ('poi', False), ('restricted_stock', 'NaN'), ('restricted_stock_deferred', 44093), ('salary', 'NaN'), ('shared_receipt_with_poi', 'NaN'), ('to_messages', 'NaN'), ('total_payments', 102500), ('total_stock_value', -44093)]"
      ]
     },
     "execution_count": 22,
     "metadata": {},
     "output_type": "execute_result"
    }
   ],
   "source": [
    "sorted(data_dict['BELFER ROBERT'].items())"
   ]
  },
  {
   "cell_type": "code",
   "execution_count": 23,
   "metadata": {
    "collapsed": false
   },
   "outputs": [
    {
     "data": {
      "text/plain": [
       "[('bonus', 'NaN'), ('deferral_payments', 'NaN'), ('deferred_income', 'NaN'), ('director_fees', 137864), ('email_address', 'sanjay.bhatnagar@enron.com'), ('exercised_stock_options', 2604490), ('expenses', 'NaN'), ('from_messages', 29), ('from_poi_to_this_person', 0), ('from_this_person_to_poi', 1), ('loan_advances', 'NaN'), ('long_term_incentive', 'NaN'), ('other', 137864), ('poi', False), ('restricted_stock', -2604490), ('restricted_stock_deferred', 15456290), ('salary', 'NaN'), ('shared_receipt_with_poi', 463), ('to_messages', 523), ('total_payments', 15456290), ('total_stock_value', 'NaN')]"
      ]
     },
     "execution_count": 23,
     "metadata": {},
     "output_type": "execute_result"
    }
   ],
   "source": [
    "sorted(data_dict['BHATNAGAR SANJAY'].items())"
   ]
  },
  {
   "cell_type": "markdown",
   "metadata": {},
   "source": [
    "### Cross-referencing the insider payment pdf file, correct the values"
   ]
  },
  {
   "cell_type": "code",
   "execution_count": 33,
   "metadata": {
    "collapsed": false
   },
   "outputs": [],
   "source": [
    "belfer = data_dict['BELFER ROBERT']\n",
    "belfer['deferred_income'] = -102500\n",
    "belfer['deferral_payments'] = 'NaN'\n",
    "belfer['expenses'] = 3285\n",
    "belfer['exercised_stock_options'] = 'NaN'\n",
    "belfer['director_fees'] = 102500\n",
    "belfer['restricted_stock'] = 44093\n",
    "belfer['restricted_stock_deferred'] = -44093\n",
    "belfer['total_payments'] = 3285\n",
    "belfer['total_stock_value'] = 'NaN'\n",
    "\n",
    "bhatnagar = data_dict['BHATNAGAR SANJAY']\n",
    "bhatnagar['expenses'] = 137864\n",
    "bhatnagar['director_fees'] = 'NaN'\n",
    "bhatnagar['other'] = 'NaN'\n",
    "bhatnagar['total_payments'] = 137864\n",
    "bhatnagar['exercised_stock_options'] = 15456290\n",
    "bhatnagar['restricted_stock'] = 2604490\n",
    "bhatnagar['restricted_stock_deferred'] = -2604490\n",
    "bhatnagar['total_stock_value'] = 15456290"
   ]
  },
  {
   "cell_type": "markdown",
   "metadata": {},
   "source": [
    "### Check again for inconsistencies"
   ]
  },
  {
   "cell_type": "code",
   "execution_count": 34,
   "metadata": {
    "collapsed": false
   },
   "outputs": [],
   "source": [
    "check_inconsistencies()"
   ]
  },
  {
   "cell_type": "markdown",
   "metadata": {},
   "source": [
    "### Feature names"
   ]
  },
  {
   "cell_type": "code",
   "execution_count": 35,
   "metadata": {
    "collapsed": false
   },
   "outputs": [
    {
     "name": "stdout",
     "output_type": "stream",
     "text": [
      "bonus\n",
      "deferral_payments\n",
      "deferred_income\n",
      "director_fees\n",
      "email_address\n",
      "exercised_stock_options\n",
      "expenses\n",
      "from_messages\n",
      "from_poi_to_this_person\n",
      "from_this_person_to_poi\n",
      "loan_advances\n",
      "long_term_incentive\n",
      "other\n",
      "poi\n",
      "restricted_stock\n",
      "restricted_stock_deferred\n",
      "salary\n",
      "shared_receipt_with_poi\n",
      "to_messages\n",
      "total_payments\n",
      "total_stock_value\n"
     ]
    }
   ],
   "source": [
    "print '\\n'.join(sorted(data_dict['ALLEN PHILLIP K'].keys()))"
   ]
  },
  {
   "cell_type": "markdown",
   "metadata": {},
   "source": [
    "### Group features in categories"
   ]
  },
  {
   "cell_type": "code",
   "execution_count": 9,
   "metadata": {
    "collapsed": true
   },
   "outputs": [],
   "source": [
    "financial_features = ['bonus',\n",
    "                      'deferral_payments',\n",
    "                      'deferred_income',\n",
    "                      'director_fees',\n",
    "                      'exercised_stock_options',\n",
    "                      'expenses',\n",
    "                      'loan_advances',\n",
    "                      'long_term_incentive',\n",
    "                      'other',\n",
    "                      'restricted_stock',\n",
    "                      'restricted_stock_deferred',\n",
    "                      'salary',\n",
    "                      'total_payments',\n",
    "                      'total_stock_value']\n",
    "email_features = ['email_address',\n",
    "                  'from_messages',\n",
    "                  'from_poi_to_this_person',\n",
    "                  'from_this_person_to_poi',\n",
    "                  'shared_receipt_with_poi',\n",
    "                  'to_messages']\n",
    "label = ['poi']"
   ]
  },
  {
   "cell_type": "markdown",
   "metadata": {},
   "source": [
    "### Code for exploring features"
   ]
  },
  {
   "cell_type": "code",
   "execution_count": 36,
   "metadata": {
    "collapsed": false
   },
   "outputs": [],
   "source": [
    "%matplotlib inline\n",
    "import matplotlib.pyplot as plt\n",
    "import numpy as np\n",
    "\n",
    "def collect_feature(feature):\n",
    "    return [d[feature] for d in data_dict.values()]\n",
    "\n",
    "def collect_feature_poi(feature):\n",
    "    return [float(d[feature]) for d in data_dict.values() if d['poi'] and d[feature] != 'NaN']\n",
    "\n",
    "def collect_feature_non_poi(feature):\n",
    "    return [float(d[feature]) for d in data_dict.values() if not d['poi'] and d[feature] != 'NaN']\n",
    "\n",
    "def explore_feature(feature):\n",
    "    data = collect_feature(feature)\n",
    "    missing = sum([1 for d in data if d == 'NaN'])\n",
    "    print 'missing values', missing, 'of', len(data), '(%.1f%%)' % (100.0 * missing / len(data))\n",
    "    data = [float(d) for d in data if d != 'NaN']\n",
    "    print 'min', np.min(data), 'max', np.max(data)\n",
    "    print '25%', np.percentile(data, 25), '50%', np.percentile(data, 50), '75%', np.percentile(data, 75)\n",
    "    print 'mean', np.mean(data), 'std', np.std(data)  \n",
    "    \n",
    "def graph_feature(feature):\n",
    "    data_poi = collect_feature_poi(feature)\n",
    "    data_non_poi = collect_feature_non_poi(feature)\n",
    "    x1 = min(data_poi + data_non_poi)\n",
    "    x2 = max(data_poi + data_non_poi)\n",
    "    plt.figure(1)\n",
    "    \n",
    "    plt.subplot(211)\n",
    "    plt.title('poi')\n",
    "    plt.xlim(x1, x2)\n",
    "    plt.hist(data_poi, 30)\n",
    "\n",
    "    plt.subplot(212)\n",
    "    plt.title('non-poi')\n",
    "    plt.xlim(x1, x2)\n",
    "    plt.hist(data_non_poi, 30)\n",
    "    \n",
    "    plt.show()\n",
    "    \n",
    "def detect_outliers(feature):\n",
    "    data = [float(d) for d in collect_feature(feature) if d != 'NaN']\n",
    "    m = np.median(data)\n",
    "    iqr = np.percentile(data, 75) - np.percentile(data, 25)\n",
    "    a, b = m - 1.5 * iqr, m + 1.5 * iqr\n",
    "    outliers = []\n",
    "    for value in data:\n",
    "        if a <= value <= b: continue\n",
    "        for k, d in data_dict.items():\n",
    "            if d[feature] == value:\n",
    "                outliers.append((value, ('POI ' if d['poi'] else '    ') + k))\n",
    "    for outlier, name in sorted(outliers, reverse=True):\n",
    "        if outlier < a:\n",
    "            print '%12.3f %-25s %s' % (outlier, '[' + str(a) + ' ' + str(b) + ']', name)\n",
    "        else:\n",
    "            print '%-25s %12.3f %s' % ('[' + str(a) + ' ' + str(b) + ']', outlier, name)\n",
    "    \n",
    "def explore(feature):\n",
    "    explore_feature(feature)\n",
    "    graph_feature(feature)\n",
    "    detect_outliers(feature)"
   ]
  },
  {
   "cell_type": "markdown",
   "metadata": {},
   "source": [
    "### Explore financial features"
   ]
  },
  {
   "cell_type": "code",
   "execution_count": 37,
   "metadata": {
    "collapsed": false
   },
   "outputs": [
    {
     "name": "stdout",
     "output_type": "stream",
     "text": [
      "missing values 63 of 144 (43.8%)\n",
      "min 70000.0 max 8000000.0\n",
      "25% 425000.0 50% 750000.0 75% 1200000.0\n",
      "mean 1201773.07407 std 1432752.54483\n"
     ]
    },
    {
     "data": {
      "image/png": "[encoded data removed]",
      "text/plain": [
       "<matplotlib.figure.Figure object at 0x0000000004B7B358>"
      ]
     },
     "metadata": {},
     "output_type": "display_data"
    },
    {
     "name": "stdout",
     "output_type": "stream",
     "text": [
      "[-412500.0 1912500.0]      8000000.000     LAVORATO JOHN J\n",
      "[-412500.0 1912500.0]      7000000.000 POI LAY KENNETH L\n",
      "[-412500.0 1912500.0]      5600000.000 POI SKILLING JEFFREY K\n",
      "[-412500.0 1912500.0]      5249999.000 POI BELDEN TIMOTHY N\n",
      "[-412500.0 1912500.0]      4175000.000     ALLEN PHILLIP K\n",
      "[-412500.0 1912500.0]      3100000.000     KITCHEN LOUISE\n",
      "[-412500.0 1912500.0]      3000000.000 POI DELAINEY DAVID W\n",
      "[-412500.0 1912500.0]      3000000.000 POI DELAINEY DAVID W\n",
      "[-412500.0 1912500.0]      3000000.000     WHALLEY LAWRENCE G\n",
      "[-412500.0 1912500.0]      3000000.000     WHALLEY LAWRENCE G\n",
      "[-412500.0 1912500.0]      2600000.000     MCMAHON JEFFREY\n",
      "[-412500.0 1912500.0]      2500000.000     FALLON JAMES B\n",
      "[-412500.0 1912500.0]      2000000.000     SHANKMAN JEFFREY A\n",
      "[-412500.0 1912500.0]      2000000.000     SHANKMAN JEFFREY A\n",
      "[-412500.0 1912500.0]      2000000.000     FREVERT MARK A\n",
      "[-412500.0 1912500.0]      2000000.000     FREVERT MARK A\n"
     ]
    }
   ],
   "source": [
    "explore('bonus')"
   ]
  },
  {
   "cell_type": "code",
   "execution_count": 38,
   "metadata": {
    "collapsed": false
   },
   "outputs": [
    {
     "name": "stdout",
     "output_type": "stream",
     "text": [
      "missing values 107 of 144 (74.3%)\n",
      "min 7961.0 max 6426990.0\n",
      "25% 85430.0 50% 227449.0 75% 875307.0\n",
      "mean 867118.810811 std 1279692.05864\n"
     ]
    },
    {
     "data": {
      "image/png": "[encoded data removed]",
      "text/plain": [
       "<matplotlib.figure.Figure object at 0x0000000008C7F080>"
      ]
     },
     "metadata": {},
     "output_type": "display_data"
    },
    {
     "name": "stdout",
     "output_type": "stream",
     "text": [
      "[-957366.5 1412264.5]      6426990.000     FREVERT MARK A\n",
      "[-957366.5 1412264.5]      3131860.000     HORTON STANLEY C\n",
      "[-957366.5 1412264.5]      2964506.000     HUMPHREY GENE E\n",
      "[-957366.5 1412264.5]      2869717.000     ALLEN PHILLIP K\n",
      "[-957366.5 1412264.5]      2157527.000     HAEDICKE MARK E\n",
      "[-957366.5 1412264.5]      2144013.000 POI BELDEN TIMOTHY N\n",
      "[-957366.5 1412264.5]      1848227.000     MEYER ROCKFORD G\n"
     ]
    }
   ],
   "source": [
    "explore('deferral_payments')"
   ]
  },
  {
   "cell_type": "code",
   "execution_count": 39,
   "metadata": {
    "collapsed": false
   },
   "outputs": [
    {
     "name": "stdout",
     "output_type": "stream",
     "text": [
      "missing values 95 of 144 (66.0%)\n",
      "min -3504386.0 max -833.0\n",
      "25% -583325.0 50% -144062.0 75% -38346.0\n",
      "mean -571283.489796 std 925127.788811\n"
     ]
    },
    {
     "data": {
      "image/png": "[encoded data removed]",
      "text/plain": [
       "<matplotlib.figure.Figure object at 0x0000000009122208>"
      ]
     },
     "metadata": {},
     "output_type": "display_data"
    },
    {
     "name": "stdout",
     "output_type": "stream",
     "text": [
      "-1284000.000 [-961530.5 673406.5]          DERRICK JR. JAMES V\n",
      "-1386055.000 [-961530.5 673406.5]      POI FASTOW ANDREW S\n",
      "-1386055.000 [-961530.5 673406.5]      POI FASTOW ANDREW S\n",
      "-1386055.000 [-961530.5 673406.5]          BAXTER JOHN C\n",
      "-1386055.000 [-961530.5 673406.5]          BAXTER JOHN C\n",
      "-2334434.000 [-961530.5 673406.5]      POI BELDEN TIMOTHY N\n",
      "-3081055.000 [-961530.5 673406.5]          ALLEN PHILLIP K\n",
      "-3117011.000 [-961530.5 673406.5]      POI HANNON KEVIN P\n",
      "-3367011.000 [-961530.5 673406.5]          FREVERT MARK A\n",
      "-3504386.000 [-961530.5 673406.5]      POI RICE KENNETH D\n"
     ]
    }
   ],
   "source": [
    "explore('deferred_income')"
   ]
  },
  {
   "cell_type": "code",
   "execution_count": 40,
   "metadata": {
    "collapsed": false
   },
   "outputs": [
    {
     "name": "stdout",
     "output_type": "stream",
     "text": [
      "missing values 129 of 144 (89.6%)\n",
      "min 17500.0 max 125034.0\n",
      "25% 100017.0 50% 103750.0 75% 110895.0\n",
      "mean 93234.4666667 std 32190.251172\n"
     ]
    },
    {
     "data": {
      "image/png": "[encoded data removed]",
      "text/plain": [
       "<matplotlib.figure.Figure object at 0x000000000922A780>"
      ]
     },
     "metadata": {},
     "output_type": "display_data"
    },
    {
     "name": "stdout",
     "output_type": "stream",
     "text": [
      "[87433.0 120067.0]          125034.000     SAVAGE FRANK\n",
      "   38346.000 [87433.0 120067.0]            MEYER JEROME J\n",
      "   36666.000 [87433.0 120067.0]            URQUHART JOHN A\n",
      "   17500.000 [87433.0 120067.0]            POWERS WILLIAM\n"
     ]
    }
   ],
   "source": [
    "explore('director_fees')"
   ]
  },
  {
   "cell_type": "code",
   "execution_count": 41,
   "metadata": {
    "collapsed": false
   },
   "outputs": [
    {
     "name": "stdout",
     "output_type": "stream",
     "text": [
      "missing values 44 of 144 (30.6%)\n",
      "min 9803.0 max 34348384.0\n",
      "25% 570128.75 50% 1310813.5 75% 2544450.0\n",
      "mean 3117640.0 std 5629563.29093\n"
     ]
    },
    {
     "data": {
      "image/png": "[encoded data removed]",
      "text/plain": [
       "<matplotlib.figure.Figure object at 0x00000000088812E8>"
      ]
     },
     "metadata": {},
     "output_type": "display_data"
    },
    {
     "name": "stdout",
     "output_type": "stream",
     "text": [
      "[-1650668.375 4272295.375] 34348384.000 POI LAY KENNETH L\n",
      "[-1650668.375 4272295.375] 30766064.000 POI HIRKO JOSEPH\n",
      "[-1650668.375 4272295.375] 19794175.000 POI RICE KENNETH D\n",
      "[-1650668.375 4272295.375] 19250000.000 POI SKILLING JEFFREY K\n",
      "[-1650668.375 4272295.375] 15456290.000     BHATNAGAR SANJAY\n",
      "[-1650668.375 4272295.375] 15364167.000     PAI LOU L\n",
      "[-1650668.375 4272295.375] 10433518.000     FREVERT MARK A\n",
      "[-1650668.375 4272295.375]  8831913.000     DERRICK JR. JAMES V\n",
      "[-1650668.375 4272295.375]  8308552.000 POI YEAGER F SCOTT\n",
      "[-1650668.375 4272295.375]  8191755.000     DIMICHELE RICHARD G\n",
      "[-1650668.375 4272295.375]  7509039.000     REDMOND BRIAN L\n",
      "[-1650668.375 4272295.375]  6680544.000     BAXTER JOHN C\n",
      "[-1650668.375 4272295.375]  5538001.000 POI HANNON KEVIN P\n",
      "[-1650668.375 4272295.375]  5266578.000     OVERDYKE JR JERE C\n",
      "[-1650668.375 4272295.375]  5210569.000     HORTON STANLEY C\n",
      "[-1650668.375 4272295.375]  5127155.000     CHRISTODOULOU DIOMEDES\n",
      "[-1650668.375 4272295.375]  4890344.000     ELLIOTT STEVEN\n",
      "[-1650668.375 4272295.375]  4452476.000     THORN TERENCE H\n",
      "[-1650668.375 4272295.375]  4346544.000     WALLS JR ROBERT H\n"
     ]
    }
   ],
   "source": [
    "explore('exercised_stock_options')"
   ]
  },
  {
   "cell_type": "code",
   "execution_count": 42,
   "metadata": {
    "collapsed": false
   },
   "outputs": [
    {
     "name": "stdout",
     "output_type": "stream",
     "text": [
      "missing values 48 of 144 (33.3%)\n",
      "min 148.0 max 228763.0\n",
      "25% 22140.5 50% 46547.5 75% 79252.25\n",
      "mean 54533.3125 std 46468.8193656\n"
     ]
    },
    {
     "data": {
      "image/png": "[encoded data removed]",
      "text/plain": [
       "<matplotlib.figure.Figure object at 0x0000000008D1E358>"
      ]
     },
     "metadata": {},
     "output_type": "display_data"
    },
    {
     "name": "stdout",
     "output_type": "stream",
     "text": [
      "[-39120.125 132215.125]     228763.000     MCCLELLAN GEORGE\n",
      "[-39120.125 132215.125]     228656.000     URQUHART JOHN A\n",
      "[-39120.125 132215.125]     178979.000     SHANKMAN JEFFREY A\n",
      "[-39120.125 132215.125]     137864.000     BHATNAGAR SANJAY\n",
      "[-39120.125 132215.125]     137767.000     SHAPIRO RICHARD S\n",
      "[-39120.125 132215.125]     137108.000     MCMAHON JEFFREY\n"
     ]
    }
   ],
   "source": [
    "explore('expenses')"
   ]
  },
  {
   "cell_type": "code",
   "execution_count": 43,
   "metadata": {
    "collapsed": false
   },
   "outputs": [
    {
     "name": "stdout",
     "output_type": "stream",
     "text": [
      "missing values 141 of 144 (97.9%)\n",
      "min 400000.0 max 81525000.0\n",
      "25% 1200000.0 50% 2000000.0 75% 41762500.0\n",
      "mean 27975000.0 std 37871201.6797\n"
     ]
    },
    {
     "data": {
      "image/png": "[encoded data removed]",
      "text/plain": [
       "<matplotlib.figure.Figure object at 0x0000000008B27C88>"
      ]
     },
     "metadata": {},
     "output_type": "display_data"
    },
    {
     "name": "stdout",
     "output_type": "stream",
     "text": [
      "[-58843750.0 62843750.0]  81525000.000 POI LAY KENNETH L\n"
     ]
    }
   ],
   "source": [
    "explore('loan_advances')"
   ]
  },
  {
   "cell_type": "code",
   "execution_count": 44,
   "metadata": {
    "collapsed": false
   },
   "outputs": [
    {
     "name": "stdout",
     "output_type": "stream",
     "text": [
      "missing values 79 of 144 (54.9%)\n",
      "min 69223.0 max 5145434.0\n",
      "25% 275000.0 50% 422158.0 75% 831809.0\n",
      "mean 746491.2 std 856253.866853\n"
     ]
    },
    {
     "data": {
      "image/png": "[encoded data removed]",
      "text/plain": [
       "<matplotlib.figure.Figure object at 0x0000000008B276D8>"
      ]
     },
     "metadata": {},
     "output_type": "display_data"
    },
    {
     "name": "stdout",
     "output_type": "stream",
     "text": [
      "[-413055.5 1257371.5]      5145434.000     MARTIN AMANDA K\n",
      "[-413055.5 1257371.5]      3600000.000 POI LAY KENNETH L\n",
      "[-413055.5 1257371.5]      2234774.000     ECHOLS JOHN B\n",
      "[-413055.5 1257371.5]      2035380.000     LAVORATO JOHN J\n",
      "[-413055.5 1257371.5]      1920000.000 POI SKILLING JEFFREY K\n",
      "[-413055.5 1257371.5]      1736055.000 POI FASTOW ANDREW S\n",
      "[-413055.5 1257371.5]      1725545.000     MULLER MARK S\n",
      "[-413055.5 1257371.5]      1617011.000 POI RICE KENNETH D\n",
      "[-413055.5 1257371.5]      1617011.000 POI RICE KENNETH D\n",
      "[-413055.5 1257371.5]      1617011.000 POI RICE KENNETH D\n",
      "[-413055.5 1257371.5]      1617011.000 POI HANNON KEVIN P\n",
      "[-413055.5 1257371.5]      1617011.000 POI HANNON KEVIN P\n",
      "[-413055.5 1257371.5]      1617011.000 POI HANNON KEVIN P\n",
      "[-413055.5 1257371.5]      1617011.000     FREVERT MARK A\n",
      "[-413055.5 1257371.5]      1617011.000     FREVERT MARK A\n",
      "[-413055.5 1257371.5]      1617011.000     FREVERT MARK A\n",
      "[-413055.5 1257371.5]      1586055.000     BAXTER JOHN C\n",
      "[-413055.5 1257371.5]      1387399.000     LEFF DANIEL P\n",
      "[-413055.5 1257371.5]      1294981.000 POI DELAINEY DAVID W\n"
     ]
    }
   ],
   "source": [
    "explore('long_term_incentive')"
   ]
  },
  {
   "cell_type": "code",
   "execution_count": 45,
   "metadata": {
    "collapsed": false
   },
   "outputs": [
    {
     "name": "stdout",
     "output_type": "stream",
     "text": [
      "missing values 54 of 144 (37.5%)\n",
      "min 2.0 max 10359729.0\n",
      "25% 1197.0 50% 38570.0 75% 344027.0\n",
      "mean 470061.033333 std 1396941.62285\n"
     ]
    },
    {
     "data": {
      "image/png": "[encoded data removed]",
      "text/plain": [
       "<matplotlib.figure.Figure object at 0x00000000088D1978>"
      ]
     },
     "metadata": {},
     "output_type": "display_data"
    },
    {
     "name": "stdout",
     "output_type": "stream",
     "text": [
      "[-475675.0 552815.0]      10359729.000 POI LAY KENNETH L\n",
      "[-475675.0 552815.0]       7427621.000     FREVERT MARK A\n",
      "[-475675.0 552815.0]       2818454.000     MARTIN AMANDA K\n",
      "[-475675.0 552815.0]       2660303.000     BAXTER JOHN C\n",
      "[-475675.0 552815.0]       1852186.000     SHERRIFF JOHN R\n",
      "[-475675.0 552815.0]       1829457.000     PAI LOU L\n",
      "[-475675.0 552815.0]       1573324.000 POI SHELBY REX\n",
      "[-475675.0 552815.0]       1553729.000     IZZO LAWRENCE L\n",
      "[-475675.0 552815.0]       1085463.000     WHITE JR THOMAS E\n",
      "[-475675.0 552815.0]        907502.000 POI KOPPER MICHAEL J\n",
      "[-475675.0 552815.0]        864523.000     BANNANTINE JAMES M\n",
      "[-475675.0 552815.0]        819288.000     GOLD JOSEPH\n",
      "[-475675.0 552815.0]        680833.000     GRAY RODNEY\n"
     ]
    }
   ],
   "source": [
    "explore('other')"
   ]
  },
  {
   "cell_type": "code",
   "execution_count": 46,
   "metadata": {
    "collapsed": false
   },
   "outputs": [
    {
     "name": "stdout",
     "output_type": "stream",
     "text": [
      "missing values 34 of 144 (23.6%)\n",
      "min 32460.0 max 14761694.0\n",
      "25% 254018.0 50% 451740.0 75% 1002369.75\n",
      "mean 1184748.17273 std 2206907.91665\n"
     ]
    },
    {
     "data": {
      "image/png": "[encoded data removed]",
      "text/plain": [
       "<matplotlib.figure.Figure object at 0x0000000009511438>"
      ]
     },
     "metadata": {},
     "output_type": "display_data"
    },
    {
     "name": "stdout",
     "output_type": "stream",
     "text": [
      "[-670787.625 1574267.625] 14761694.000 POI LAY KENNETH L\n",
      "[-670787.625 1574267.625] 13847074.000     WHITE JR THOMAS E\n",
      "[-670787.625 1574267.625]  8453763.000     PAI LOU L\n",
      "[-670787.625 1574267.625]  6843672.000 POI SKILLING JEFFREY K\n",
      "[-670787.625 1574267.625]  4188667.000     FREVERT MARK A\n",
      "[-670787.625 1574267.625]  4131594.000     KEAN STEVEN J\n",
      "[-670787.625 1574267.625]  3942714.000     BAXTER JOHN C\n",
      "[-670787.625 1574267.625]  3654808.000     IZZO LAWRENCE L\n",
      "[-670787.625 1574267.625]  3576206.000 POI YEAGER F SCOTT\n",
      "[-670787.625 1574267.625]  2796177.000     WHALLEY LAWRENCE G\n",
      "[-670787.625 1574267.625]  2748364.000 POI RICE KENNETH D\n",
      "[-670787.625 1574267.625]  2604490.000     BHATNAGAR SANJAY\n",
      "[-670787.625 1574267.625]  2502063.000 POI CAUSEY RICHARD A\n",
      "[-670787.625 1574267.625]  2217299.000     HAUG DAVID L\n",
      "[-670787.625 1574267.625]  2046079.000     HORTON STANLEY C\n",
      "[-670787.625 1574267.625]  2041016.000     OVERDYKE JR JERE C\n",
      "[-670787.625 1574267.625]  1794412.000 POI FASTOW ANDREW S\n",
      "[-670787.625 1574267.625]  1788391.000     ELLIOTT STEVEN\n",
      "[-670787.625 1574267.625]  1787380.000     DERRICK JR. JAMES V\n",
      "[-670787.625 1574267.625]  1757552.000     BANNANTINE JAMES M\n"
     ]
    }
   ],
   "source": [
    "explore('restricted_stock')"
   ]
  },
  {
   "cell_type": "code",
   "execution_count": 47,
   "metadata": {
    "collapsed": false
   },
   "outputs": [
    {
     "name": "stdout",
     "output_type": "stream",
     "text": [
      "missing values 127 of 144 (88.2%)\n",
      "min -2604490.0 max -32460.0\n",
      "25% -409554.0 50% -153686.0 75% -82782.0\n",
      "mean -445693.411765 std 672734.425329\n"
     ]
    },
    {
     "data": {
      "image/png": "[encoded data removed]",
      "text/plain": [
       "<matplotlib.figure.Figure object at 0x0000000008A3E898>"
      ]
     },
     "metadata": {},
     "output_type": "display_data"
    },
    {
     "name": "stdout",
     "output_type": "stream",
     "text": [
      "-1787380.000 [-643844.0 336472.0]          DERRICK JR. JAMES V\n",
      "-2604490.000 [-643844.0 336472.0]          BHATNAGAR SANJAY\n"
     ]
    }
   ],
   "source": [
    "explore('restricted_stock_deferred')"
   ]
  },
  {
   "cell_type": "code",
   "execution_count": 48,
   "metadata": {
    "collapsed": false
   },
   "outputs": [
    {
     "name": "stdout",
     "output_type": "stream",
     "text": [
      "missing values 50 of 144 (34.7%)\n",
      "min 477.0 max 1111258.0\n",
      "25% 211802.0 50% 258741.0 75% 308606.5\n",
      "mean 284087.542553 std 176186.40936\n"
     ]
    },
    {
     "data": {
      "image/png": "[encoded data removed]",
      "text/plain": [
       "<matplotlib.figure.Figure object at 0x00000000088BAA20>"
      ]
     },
     "metadata": {},
     "output_type": "display_data"
    },
    {
     "name": "stdout",
     "output_type": "stream",
     "text": [
      "[113534.25 403947.75]      1111258.000 POI SKILLING JEFFREY K\n",
      "[113534.25 403947.75]      1072321.000 POI LAY KENNETH L\n",
      "[113534.25 403947.75]      1060932.000     FREVERT MARK A\n",
      "[113534.25 403947.75]       655037.000     PICKERING MARK R\n",
      "[113534.25 403947.75]       510364.000     WHALLEY LAWRENCE G\n",
      "[113534.25 403947.75]       492375.000     DERRICK JR. JAMES V\n",
      "[113534.25 403947.75]       440698.000 POI FASTOW ANDREW S\n",
      "[113534.25 403947.75]       428780.000     SHERRIFF JOHN R\n",
      "[113534.25 403947.75]       420636.000 POI RICE KENNETH D\n",
      "[113534.25 403947.75]       415189.000 POI CAUSEY RICHARD A\n",
      "[113534.25 403947.75]       404338.000     KEAN STEVEN J\n",
      "   96840.000 [113534.25 403947.75]         REDMOND BRIAN L\n",
      "   94941.000 [113534.25 403947.75]         OVERDYKE JR JERE C\n",
      "   85274.000 [113534.25 403947.75]         IZZO LAWRENCE L\n",
      "   80818.000 [113534.25 403947.75]         BAZELIDES PHILIP J\n",
      "   76399.000 [113534.25 403947.75]         REYNOLDS LAWRENCE\n",
      "   63744.000 [113534.25 403947.75]         WESTFAHL RICHARD K\n",
      "    6615.000 [113534.25 403947.75]         GRAY RODNEY\n",
      "     477.000 [113534.25 403947.75]         BANNANTINE JAMES M\n"
     ]
    }
   ],
   "source": [
    "explore('salary')"
   ]
  },
  {
   "cell_type": "code",
   "execution_count": 49,
   "metadata": {
    "collapsed": false
   },
   "outputs": [
    {
     "name": "stdout",
     "output_type": "stream",
     "text": [
      "missing values 21 of 144 (14.6%)\n",
      "min 148.0 max 103559793.0\n",
      "25% 377387.5 50% 1099100.0 75% 2064694.5\n",
      "mean 2516459.26016 std 9417357.59503\n"
     ]
    },
    {
     "data": {
      "image/png": "[encoded data removed]",
      "text/plain": [
       "<matplotlib.figure.Figure object at 0x000000000A351FD0>"
      ]
     },
     "metadata": {},
     "output_type": "display_data"
    },
    {
     "name": "stdout",
     "output_type": "stream",
     "text": [
      "[-1431860.5 3630060.5]    103559793.000 POI LAY KENNETH L\n",
      "[-1431860.5 3630060.5]    17252530.000     FREVERT MARK A\n",
      "[-1431860.5 3630060.5]    10425757.000     LAVORATO JOHN J\n",
      "[-1431860.5 3630060.5]     8682716.000 POI SKILLING JEFFREY K\n",
      "[-1431860.5 3630060.5]     8407016.000     MARTIN AMANDA K\n",
      "[-1431860.5 3630060.5]     5634343.000     BAXTER JOHN C\n",
      "[-1431860.5 3630060.5]     5501630.000 POI BELDEN TIMOTHY N\n",
      "[-1431860.5 3630060.5]     4747979.000 POI DELAINEY DAVID W\n",
      "[-1431860.5 3630060.5]     4677574.000     WHALLEY LAWRENCE G\n",
      "[-1431860.5 3630060.5]     4484442.000     ALLEN PHILLIP K\n",
      "[-1431860.5 3630060.5]     4335388.000     SHERRIFF JOHN R\n",
      "[-1431860.5 3630060.5]     4099771.000     MCMAHON JEFFREY\n",
      "[-1431860.5 3630060.5]     3859065.000     HAEDICKE MARK E\n",
      "[-1431860.5 3630060.5]     3676340.000     FALLON JAMES B\n"
     ]
    }
   ],
   "source": [
    "explore('total_payments')"
   ]
  },
  {
   "cell_type": "code",
   "execution_count": 50,
   "metadata": {
    "collapsed": false
   },
   "outputs": [
    {
     "name": "stdout",
     "output_type": "stream",
     "text": [
      "missing values 19 of 144 (13.2%)\n",
      "min 28798.0 max 49110078.0\n",
      "25% 495633.0 50% 1110705.0 75% 3064208.0\n",
      "mean 3476076.088 std 6587987.65245\n"
     ]
    },
    {
     "data": {
      "image/png": "[encoded data removed]",
      "text/plain": [
       "<matplotlib.figure.Figure object at 0x000000000A271518>"
      ]
     },
     "metadata": {},
     "output_type": "display_data"
    },
    {
     "name": "stdout",
     "output_type": "stream",
     "text": [
      "[-2742157.5 4963567.5]    49110078.000 POI LAY KENNETH L\n",
      "[-2742157.5 4963567.5]    30766064.000 POI HIRKO JOSEPH\n",
      "[-2742157.5 4963567.5]    26093672.000 POI SKILLING JEFFREY K\n",
      "[-2742157.5 4963567.5]    23817930.000     PAI LOU L\n",
      "[-2742157.5 4963567.5]    22542539.000 POI RICE KENNETH D\n",
      "[-2742157.5 4963567.5]    15456290.000     BHATNAGAR SANJAY\n",
      "[-2742157.5 4963567.5]    15144123.000     WHITE JR THOMAS E\n",
      "[-2742157.5 4963567.5]    14622185.000     FREVERT MARK A\n",
      "[-2742157.5 4963567.5]    11884758.000 POI YEAGER F SCOTT\n",
      "[-2742157.5 4963567.5]    10623258.000     BAXTER JOHN C\n",
      "[-2742157.5 4963567.5]     8831913.000     DERRICK JR. JAMES V\n",
      "[-2742157.5 4963567.5]     8317782.000     DIMICHELE RICHARD G\n",
      "[-2742157.5 4963567.5]     7890324.000     REDMOND BRIAN L\n",
      "[-2742157.5 4963567.5]     7307594.000     OVERDYKE JR JERE C\n",
      "[-2742157.5 4963567.5]     7256648.000     HORTON STANLEY C\n",
      "[-2742157.5 4963567.5]     6678735.000     ELLIOTT STEVEN\n",
      "[-2742157.5 4963567.5]     6391065.000 POI HANNON KEVIN P\n",
      "[-2742157.5 4963567.5]     6153642.000     KEAN STEVEN J\n",
      "[-2742157.5 4963567.5]     6079137.000     WHALLEY LAWRENCE G\n",
      "[-2742157.5 4963567.5]     6077885.000     CHRISTODOULOU DIOMEDES\n",
      "[-2742157.5 4963567.5]     5898997.000     WALLS JR ROBERT H\n",
      "[-2742157.5 4963567.5]     5819980.000     IZZO LAWRENCE L\n",
      "[-2742157.5 4963567.5]     5243487.000     BANNANTINE JAMES M\n",
      "[-2742157.5 4963567.5]     5167144.000     LAVORATO JOHN J\n"
     ]
    }
   ],
   "source": [
    "explore('total_stock_value')"
   ]
  },
  {
   "cell_type": "markdown",
   "metadata": {},
   "source": [
    "### Explore email features"
   ]
  },
  {
   "cell_type": "code",
   "execution_count": 51,
   "metadata": {
    "collapsed": false
   },
   "outputs": [
    {
     "name": "stdout",
     "output_type": "stream",
     "text": [
      "missing values 58 of 144 (40.3%)\n",
      "min 12.0 max 14368.0\n",
      "25% 22.75 50% 41.0 75% 145.5\n",
      "mean 608.790697674 std 1830.29896602\n"
     ]
    },
    {
     "data": {
      "image/png": "[encoded data removed]",
      "text/plain": [
       "<matplotlib.figure.Figure object at 0x0000000009509D30>"
      ]
     },
     "metadata": {},
     "output_type": "display_data"
    },
    {
     "name": "stdout",
     "output_type": "stream",
     "text": [
      "[-143.125 225.125]           14368.000     KAMINSKI WINCENTY J\n",
      "[-143.125 225.125]            6759.000     KEAN STEVEN J\n",
      "[-143.125 225.125]            4343.000     BECK SALLY W\n",
      "[-143.125 225.125]            3069.000 POI DELAINEY DAVID W\n",
      "[-143.125 225.125]            2742.000     MCCONNELL MICHAEL S\n",
      "[-143.125 225.125]            2681.000     SHANKMAN JEFFREY A\n",
      "[-143.125 225.125]            2585.000     LAVORATO JOHN J\n",
      "[-143.125 225.125]            2195.000     ALLEN PHILLIP K\n",
      "[-143.125 225.125]            1941.000     HAEDICKE MARK E\n",
      "[-143.125 225.125]            1728.000     KITCHEN LOUISE\n",
      "[-143.125 225.125]            1215.000     SHAPIRO RICHARD S\n",
      "[-143.125 225.125]            1073.000     HORTON STANLEY C\n",
      "[-143.125 225.125]            1061.000     HAYSLETT RODERICK J\n",
      "[-143.125 225.125]            1053.000     BUY RICHARD B\n",
      "[-143.125 225.125]             909.000     DERRICK JR. JAMES V\n",
      "[-143.125 225.125]             556.000     WHALLEY LAWRENCE G\n",
      "[-143.125 225.125]             484.000 POI BELDEN TIMOTHY N\n",
      "[-143.125 225.125]             230.000     MARTIN AMANDA K\n"
     ]
    }
   ],
   "source": [
    "explore('from_messages')"
   ]
  },
  {
   "cell_type": "code",
   "execution_count": 52,
   "metadata": {
    "collapsed": false
   },
   "outputs": [
    {
     "name": "stdout",
     "output_type": "stream",
     "text": [
      "missing values 58 of 144 (40.3%)\n",
      "min 0.0 max 528.0\n",
      "25% 10.0 50% 35.0 75% 72.25\n",
      "mean 64.8953488372 std 86.4720722586\n"
     ]
    },
    {
     "data": {
      "image/png": "[encoded data removed]",
      "text/plain": [
       "<matplotlib.figure.Figure object at 0x0000000008A9A588>"
      ]
     },
     "metadata": {},
     "output_type": "display_data"
    },
    {
     "name": "stdout",
     "output_type": "stream",
     "text": [
      "[-58.375 128.375]              528.000     LAVORATO JOHN J\n",
      "[-58.375 128.375]              305.000     DIETRICH JANET R\n",
      "[-58.375 128.375]              251.000     KITCHEN LOUISE\n",
      "[-58.375 128.375]              242.000     FREVERT MARK A\n",
      "[-58.375 128.375]              240.000 POI COLWELL WESLEY\n",
      "[-58.375 128.375]              228.000 POI BELDEN TIMOTHY N\n",
      "[-58.375 128.375]              204.000     REDMOND BRIAN L\n",
      "[-58.375 128.375]              199.000 POI CALGER CHRISTOPHER F\n",
      "[-58.375 128.375]              188.000     DONAHUE JR JEFFREY M\n",
      "[-58.375 128.375]              186.000     WHALLEY LAWRENCE G\n",
      "[-58.375 128.375]              180.000     HAEDICKE MARK E\n",
      "[-58.375 128.375]              156.000     BUY RICHARD B\n",
      "[-58.375 128.375]              144.000     BECK SALLY W\n",
      "[-58.375 128.375]              140.000 POI BOWEN JR RAYMOND M\n",
      "[-58.375 128.375]              140.000 POI BOWEN JR RAYMOND M\n",
      "[-58.375 128.375]              140.000     KEAN STEVEN J\n",
      "[-58.375 128.375]              140.000     KEAN STEVEN J\n"
     ]
    }
   ],
   "source": [
    "explore('from_poi_to_this_person')"
   ]
  },
  {
   "cell_type": "code",
   "execution_count": 53,
   "metadata": {
    "collapsed": false
   },
   "outputs": [
    {
     "name": "stdout",
     "output_type": "stream",
     "text": [
      "missing values 58 of 144 (40.3%)\n",
      "min 0.0 max 609.0\n",
      "25% 1.0 50% 8.0 75% 24.75\n",
      "mean 41.2325581395 std 99.4895897813\n"
     ]
    },
    {
     "data": {
      "image/png": "[encoded data removed]",
      "text/plain": [
       "<matplotlib.figure.Figure object at 0x0000000008D08320>"
      ]
     },
     "metadata": {},
     "output_type": "display_data"
    },
    {
     "name": "stdout",
     "output_type": "stream",
     "text": [
      "[-27.625 43.625]               609.000 POI DELAINEY DAVID W\n",
      "[-27.625 43.625]               411.000     LAVORATO JOHN J\n",
      "[-27.625 43.625]               387.000     KEAN STEVEN J\n",
      "[-27.625 43.625]               386.000     BECK SALLY W\n",
      "[-27.625 43.625]               194.000     MCCONNELL MICHAEL S\n",
      "[-27.625 43.625]               194.000     MCCONNELL MICHAEL S\n",
      "[-27.625 43.625]               194.000     KITCHEN LOUISE\n",
      "[-27.625 43.625]               194.000     KITCHEN LOUISE\n",
      "[-27.625 43.625]               171.000     KAMINSKI WINCENTY J\n",
      "[-27.625 43.625]               108.000 POI BELDEN TIMOTHY N\n",
      "[-27.625 43.625]                83.000     SHANKMAN JEFFREY A\n",
      "[-27.625 43.625]                71.000     BUY RICHARD B\n",
      "[-27.625 43.625]                65.000     SHAPIRO RICHARD S\n",
      "[-27.625 43.625]                65.000     SHAPIRO RICHARD S\n",
      "[-27.625 43.625]                65.000     ALLEN PHILLIP K\n",
      "[-27.625 43.625]                65.000     ALLEN PHILLIP K\n",
      "[-27.625 43.625]                61.000     HAEDICKE MARK E\n",
      "[-27.625 43.625]                49.000     REDMOND BRIAN L\n",
      "[-27.625 43.625]                48.000 POI RIEKER PAULA H\n",
      "[-27.625 43.625]                48.000 POI RIEKER PAULA H\n",
      "[-27.625 43.625]                48.000     PIPER GREGORY F\n",
      "[-27.625 43.625]                48.000     PIPER GREGORY F\n"
     ]
    }
   ],
   "source": [
    "explore('from_this_person_to_poi')"
   ]
  },
  {
   "cell_type": "code",
   "execution_count": 54,
   "metadata": {
    "collapsed": false
   },
   "outputs": [
    {
     "name": "stdout",
     "output_type": "stream",
     "text": [
      "missing values 58 of 144 (40.3%)\n",
      "min 2.0 max 5521.0\n",
      "25% 249.75 50% 740.5 75% 1888.25\n",
      "mean 1176.46511628 std 1171.44692579\n"
     ]
    },
    {
     "data": {
      "image/png": "[encoded data removed]",
      "text/plain": [
       "<matplotlib.figure.Figure object at 0x00000000088F2588>"
      ]
     },
     "metadata": {},
     "output_type": "display_data"
    },
    {
     "name": "stdout",
     "output_type": "stream",
     "text": [
      "[-1717.25 3198.25]            5521.000 POI BELDEN TIMOTHY N\n",
      "[-1717.25 3198.25]            4527.000     SHAPIRO RICHARD S\n",
      "[-1717.25 3198.25]            3962.000     LAVORATO JOHN J\n",
      "[-1717.25 3198.25]            3920.000     WHALLEY LAWRENCE G\n",
      "[-1717.25 3198.25]            3669.000     KITCHEN LOUISE\n",
      "[-1717.25 3198.25]            3639.000     KEAN STEVEN J\n"
     ]
    }
   ],
   "source": [
    "explore('shared_receipt_with_poi')"
   ]
  },
  {
   "cell_type": "code",
   "execution_count": 55,
   "metadata": {
    "collapsed": false
   },
   "outputs": [
    {
     "name": "stdout",
     "output_type": "stream",
     "text": [
      "missing values 58 of 144 (40.3%)\n",
      "min 57.0 max 15149.0\n",
      "25% 541.25 50% 1211.0 75% 2634.75\n",
      "mean 2073.86046512 std 2567.64137159\n"
     ]
    },
    {
     "data": {
      "image/png": "[encoded data removed]",
      "text/plain": [
       "<matplotlib.figure.Figure object at 0x000000000A5A1B38>"
      ]
     },
     "metadata": {},
     "output_type": "display_data"
    },
    {
     "name": "stdout",
     "output_type": "stream",
     "text": [
      "[-1929.25 4351.25]           15149.000     SHAPIRO RICHARD S\n",
      "[-1929.25 4351.25]           12754.000     KEAN STEVEN J\n",
      "[-1929.25 4351.25]            8305.000     KITCHEN LOUISE\n",
      "[-1929.25 4351.25]            7991.000 POI BELDEN TIMOTHY N\n",
      "[-1929.25 4351.25]            7315.000     BECK SALLY W\n",
      "[-1929.25 4351.25]            7259.000     LAVORATO JOHN J\n",
      "[-1929.25 4351.25]            6019.000     WHALLEY LAWRENCE G\n",
      "[-1929.25 4351.25]            4607.000     KAMINSKI WINCENTY J\n"
     ]
    }
   ],
   "source": [
    "explore('to_messages')"
   ]
  },
  {
   "cell_type": "markdown",
   "metadata": {},
   "source": [
    "## Create new email features"
   ]
  },
  {
   "cell_type": "markdown",
   "metadata": {},
   "source": [
    "I am highly sceptical of the poi-related email features. Because if we have a fresh data set, we do not know any poi and thus cannot assign reasonable values to these features. But if we envisage an incremental approach, i. e. we do already know some poi and try to find some more, then we can use such features. Here, I create new features based on the poi-related features."
   ]
  },
  {
   "cell_type": "code",
   "execution_count": 56,
   "metadata": {
    "collapsed": true
   },
   "outputs": [],
   "source": [
    "def fraction(subset, all):\n",
    "    fraction = 0.0\n",
    "    if all != 'NaN' and subset != 'NaN':\n",
    "        fraction = float(subset) / float(all)\n",
    "    return fraction\n",
    "\n",
    "for data in data_dict.values():\n",
    "    data['fraction_to_poi'] = fraction(data['from_this_person_to_poi'], data['from_messages'])\n",
    "    data['fraction_from_poi'] = fraction(data['from_poi_to_this_person'], data['to_messages'])"
   ]
  },
  {
   "cell_type": "code",
   "execution_count": 57,
   "metadata": {
    "collapsed": false
   },
   "outputs": [
    {
     "name": "stdout",
     "output_type": "stream",
     "text": [
      "missing values 0 of 144 (0.0%)\n",
      "min 0.0 max 1.0\n",
      "25% 0.0 50% 0.0 75% 0.198826979472\n",
      "mean 0.10992202398 std 0.185288112201\n"
     ]
    },
    {
     "data": {
      "image/png": "[encoded data removed]",
      "text/plain": [
       "<matplotlib.figure.Figure object at 0x0000000008965550>"
      ]
     },
     "metadata": {},
     "output_type": "display_data"
    },
    {
     "name": "stdout",
     "output_type": "stream",
     "text": [
      "[-0.298240469208 0.298240469208]        1.000     HUMPHREY GENE E\n",
      "[-0.298240469208 0.298240469208]        0.720     SHERRICK JEFFREY B\n",
      "[-0.298240469208 0.298240469208]        0.656 POI HANNON KEVIN P\n",
      "[-0.298240469208 0.298240469208]        0.614     GARLAND C KEVIN\n",
      "[-0.298240469208 0.298240469208]        0.585 POI RIEKER PAULA H\n",
      "[-0.298240469208 0.298240469208]        0.579     TILNEY ELIZABETH A\n",
      "[-0.298240469208 0.298240469208]        0.556 POI BOWEN JR RAYMOND M\n",
      "[-0.298240469208 0.298240469208]        0.542     MCMAHON JEFFREY\n",
      "[-0.298240469208 0.298240469208]        0.500     FITZGERALD JAY L\n",
      "[-0.298240469208 0.298240469208]        0.500     FITZGERALD JAY L\n",
      "[-0.298240469208 0.298240469208]        0.500     DONAHUE JR JEFFREY M\n",
      "[-0.298240469208 0.298240469208]        0.500     DONAHUE JR JEFFREY M\n",
      "[-0.298240469208 0.298240469208]        0.493     FALLON JAMES B\n",
      "[-0.298240469208 0.298240469208]        0.467     CARTER REBECCA C\n",
      "[-0.298240469208 0.298240469208]        0.444 POI LAY KENNETH L\n",
      "[-0.298240469208 0.298240469208]        0.375 POI GLISAN JR BEN F\n",
      "[-0.298240469208 0.298240469208]        0.368     HAUG DAVID L\n",
      "[-0.298240469208 0.298240469208]        0.359 POI SHELBY REX\n",
      "[-0.298240469208 0.298240469208]        0.342     SUNDE MARTIN\n",
      "[-0.298240469208 0.298240469208]        0.339     JACKSON CHARLENE R\n"
     ]
    }
   ],
   "source": [
    "explore('fraction_to_poi')"
   ]
  },
  {
   "cell_type": "code",
   "execution_count": 58,
   "metadata": {
    "collapsed": false
   },
   "outputs": [
    {
     "name": "stdout",
     "output_type": "stream",
     "text": [
      "missing values 0 of 144 (0.0%)\n",
      "min 0.0 max 0.217341040462\n",
      "25% 0.0 50% 0.00495152952689 75% 0.0299180746649\n",
      "mean 0.0226723343813 std 0.0362905116719\n"
     ]
    },
    {
     "data": {
      "image/png": "[encoded data removed]",
      "text/plain": [
       "<matplotlib.figure.Figure object at 0x00000000089DF6D8>"
      ]
     },
     "metadata": {},
     "output_type": "display_data"
    },
    {
     "name": "stdout",
     "output_type": "stream",
     "text": [
      "[-0.0399255824704 0.0498286415242]        0.217     DONAHUE JR JEFFREY M\n",
      "[-0.0399255824704 0.0498286415242]        0.161     DEFFNER JOSEPH M\n",
      "[-0.0399255824704 0.0498286415242]        0.137 POI COLWELL WESLEY\n",
      "[-0.0399255824704 0.0498286415242]        0.122     REDMOND BRIAN L\n",
      "[-0.0399255824704 0.0498286415242]        0.119     DIETRICH JANET R\n",
      "[-0.0399255824704 0.0498286415242]        0.117     DURAN WILLIAM D\n",
      "[-0.0399255824704 0.0498286415242]        0.108     UMANOFF ADAM S\n",
      "[-0.0399255824704 0.0498286415242]        0.097     JACKSON CHARLENE R\n",
      "[-0.0399255824704 0.0498286415242]        0.093     CARTER REBECCA C\n",
      "[-0.0399255824704 0.0498286415242]        0.088     MULLER MARK S\n",
      "[-0.0399255824704 0.0498286415242]        0.078     HUMPHREY GENE E\n",
      "[-0.0399255824704 0.0498286415242]        0.077 POI CALGER CHRISTOPHER F\n",
      "[-0.0399255824704 0.0498286415242]        0.075 POI BOWEN JR RAYMOND M\n",
      "[-0.0399255824704 0.0498286415242]        0.074     FREVERT MARK A\n",
      "[-0.0399255824704 0.0498286415242]        0.073     LAVORATO JOHN J\n",
      "[-0.0399255824704 0.0498286415242]        0.069     BANNANTINE JAMES M\n",
      "[-0.0399255824704 0.0498286415242]        0.064     SHERRICK JEFFREY B\n",
      "[-0.0399255824704 0.0498286415242]        0.060     MCDONALD REBECCA\n",
      "[-0.0399255824704 0.0498286415242]        0.060 POI GLISAN JR BEN F\n",
      "[-0.0399255824704 0.0498286415242]        0.058 POI SHELBY REX\n",
      "[-0.0399255824704 0.0498286415242]        0.057     DODSON KEITH\n",
      "[-0.0399255824704 0.0498286415242]        0.056     IZZO LAWRENCE L\n",
      "[-0.0399255824704 0.0498286415242]        0.055     WASAFF GEORGE\n"
     ]
    }
   ],
   "source": [
    "explore('fraction_from_poi')"
   ]
  },
  {
   "cell_type": "markdown",
   "metadata": {
    "collapsed": true
   },
   "source": [
    "# Save data for model building"
   ]
  },
  {
   "cell_type": "code",
   "execution_count": 60,
   "metadata": {
    "collapsed": false
   },
   "outputs": [],
   "source": [
    "import pickle\n",
    "with open('clean_data.pkl', 'w') as out:\n",
    "    pickle.dump(data_dict, out)"
   ]
  }
 ],
 "metadata": {
  "anaconda-cloud": {},
  "kernelspec": {
   "display_name": "Python [Root]",
   "language": "python",
   "name": "Python [Root]"
  },
  "language_info": {
   "codemirror_mode": {
    "name": "ipython",
    "version": 2
   },
   "file_extension": ".py",
   "mimetype": "text/x-python",
   "name": "python",
   "nbconvert_exporter": "python",
   "pygments_lexer": "ipython2",
   "version": "2.7.12"
  }
 },
 "nbformat": 4,
 "nbformat_minor": 0
}

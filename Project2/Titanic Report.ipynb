{
 "cells": [
  {
   "cell_type": "markdown",
   "metadata": {},
   "source": [
    "# Titanic Data Analysis Report\n",
    "\n",
    "Damian Brunold, December 2015 - January 2016\n",
    "\n",
    "## Introduction\n",
    "\n",
    "In this report, I analyze a dataset about the sinking of the Titanic. The dataset was provided by [Udacity[1]](https://www.udacity.com/) and originates from the [Kaggle Site[2]](https://www.kaggle.com/). Further information about the iconic sinking of the Titanic can be found e.g. on [Wikipedia[3]](https://en.wikipedia.org/wiki/RMS_Titanic/)."
   ]
  },
  {
   "cell_type": "markdown",
   "metadata": {},
   "source": [
    "## Questions\n",
    "\n",
    "It is well known that first class passengers had a much higher survival rate than third class passengers. Here I want to confirm this finding and analyze it a little bit more. Generally, I am interested in how different factors correlate with survival rates. In order to analyze this, I focus on the following three questions:\n",
    "\n",
    "1. Are the survivor rates different for the three different classes?\n",
    "2. Are the survivor rates different for men and women?\n",
    "3. Are the survivor rates different for the three different embarkment sites?\n",
    "\n",
    "As these data do not originate with an experimental study, we cannot draw causal conclusions and have to restrict our findings to statements of correlations. For example, if we find that third class passengers had lower survival rates than first class passengers, then we cannot state that this is *due* to their different class. It may very well be that there was a confounding factor that was the basis for the difference. For example, it is quite reasonable to assume that the cabins of third class passengers were situated on lower decks and thus it might have been more difficult to reach the life boats. We do not know from these data. We just can state what correlations we find."
   ]
  },
  {
   "cell_type": "markdown",
   "metadata": {},
   "source": [
    "## Preparation\n",
    "\n",
    "Before we can begin to analyze the data, we have to prepare by loading the needed python libraries."
   ]
  },
  {
   "cell_type": "code",
   "execution_count": 33,
   "metadata": {
    "collapsed": false
   },
   "outputs": [
    {
     "name": "stdout",
     "output_type": "stream",
     "text": [
      "Populating the interactive namespace from numpy and matplotlib\n"
     ]
    }
   ],
   "source": [
    "import numpy as np\n",
    "import pandas as pd\n",
    "from pandas import Series, DataFrame\n",
    "import matplotlib.pyplot as plt\n",
    "%pylab inline"
   ]
  },
  {
   "cell_type": "markdown",
   "metadata": {},
   "source": [
    "## Overview of the data\n",
    "\n",
    "The data is provided as a single CSV file. Lets load the data and get a basic overview of it."
   ]
  },
  {
   "cell_type": "code",
   "execution_count": 3,
   "metadata": {
    "collapsed": false
   },
   "outputs": [
    {
     "data": {
      "text/html": [
       "<div>\n",
       "<table border=\"1\" class=\"dataframe\">\n",
       "  <thead>\n",
       "    <tr style=\"text-align: right;\">\n",
       "      <th></th>\n",
       "      <th>PassengerId</th>\n",
       "      <th>Survived</th>\n",
       "      <th>Pclass</th>\n",
       "      <th>Age</th>\n",
       "      <th>SibSp</th>\n",
       "      <th>Parch</th>\n",
       "      <th>Fare</th>\n",
       "    </tr>\n",
       "  </thead>\n",
       "  <tbody>\n",
       "    <tr>\n",
       "      <th>count</th>\n",
       "      <td>891.000000</td>\n",
       "      <td>891.000000</td>\n",
       "      <td>891.000000</td>\n",
       "      <td>714.000000</td>\n",
       "      <td>891.000000</td>\n",
       "      <td>891.000000</td>\n",
       "      <td>891.000000</td>\n",
       "    </tr>\n",
       "    <tr>\n",
       "      <th>mean</th>\n",
       "      <td>446.000000</td>\n",
       "      <td>0.383838</td>\n",
       "      <td>2.308642</td>\n",
       "      <td>29.699118</td>\n",
       "      <td>0.523008</td>\n",
       "      <td>0.381594</td>\n",
       "      <td>32.204208</td>\n",
       "    </tr>\n",
       "    <tr>\n",
       "      <th>std</th>\n",
       "      <td>257.353842</td>\n",
       "      <td>0.486592</td>\n",
       "      <td>0.836071</td>\n",
       "      <td>14.526497</td>\n",
       "      <td>1.102743</td>\n",
       "      <td>0.806057</td>\n",
       "      <td>49.693429</td>\n",
       "    </tr>\n",
       "    <tr>\n",
       "      <th>min</th>\n",
       "      <td>1.000000</td>\n",
       "      <td>0.000000</td>\n",
       "      <td>1.000000</td>\n",
       "      <td>0.420000</td>\n",
       "      <td>0.000000</td>\n",
       "      <td>0.000000</td>\n",
       "      <td>0.000000</td>\n",
       "    </tr>\n",
       "    <tr>\n",
       "      <th>25%</th>\n",
       "      <td>223.500000</td>\n",
       "      <td>0.000000</td>\n",
       "      <td>2.000000</td>\n",
       "      <td>20.125000</td>\n",
       "      <td>0.000000</td>\n",
       "      <td>0.000000</td>\n",
       "      <td>7.910400</td>\n",
       "    </tr>\n",
       "    <tr>\n",
       "      <th>50%</th>\n",
       "      <td>446.000000</td>\n",
       "      <td>0.000000</td>\n",
       "      <td>3.000000</td>\n",
       "      <td>28.000000</td>\n",
       "      <td>0.000000</td>\n",
       "      <td>0.000000</td>\n",
       "      <td>14.454200</td>\n",
       "    </tr>\n",
       "    <tr>\n",
       "      <th>75%</th>\n",
       "      <td>668.500000</td>\n",
       "      <td>1.000000</td>\n",
       "      <td>3.000000</td>\n",
       "      <td>38.000000</td>\n",
       "      <td>1.000000</td>\n",
       "      <td>0.000000</td>\n",
       "      <td>31.000000</td>\n",
       "    </tr>\n",
       "    <tr>\n",
       "      <th>max</th>\n",
       "      <td>891.000000</td>\n",
       "      <td>1.000000</td>\n",
       "      <td>3.000000</td>\n",
       "      <td>80.000000</td>\n",
       "      <td>8.000000</td>\n",
       "      <td>6.000000</td>\n",
       "      <td>512.329200</td>\n",
       "    </tr>\n",
       "  </tbody>\n",
       "</table>\n",
       "</div>"
      ],
      "text/plain": [
       "       PassengerId    Survived      Pclass         Age       SibSp  \\\n",
       "count   891.000000  891.000000  891.000000  714.000000  891.000000   \n",
       "mean    446.000000    0.383838    2.308642   29.699118    0.523008   \n",
       "std     257.353842    0.486592    0.836071   14.526497    1.102743   \n",
       "min       1.000000    0.000000    1.000000    0.420000    0.000000   \n",
       "25%     223.500000    0.000000    2.000000   20.125000    0.000000   \n",
       "50%     446.000000    0.000000    3.000000   28.000000    0.000000   \n",
       "75%     668.500000    1.000000    3.000000   38.000000    1.000000   \n",
       "max     891.000000    1.000000    3.000000   80.000000    8.000000   \n",
       "\n",
       "            Parch        Fare  \n",
       "count  891.000000  891.000000  \n",
       "mean     0.381594   32.204208  \n",
       "std      0.806057   49.693429  \n",
       "min      0.000000    0.000000  \n",
       "25%      0.000000    7.910400  \n",
       "50%      0.000000   14.454200  \n",
       "75%      0.000000   31.000000  \n",
       "max      6.000000  512.329200  "
      ]
     },
     "execution_count": 3,
     "metadata": {},
     "output_type": "execute_result"
    }
   ],
   "source": [
    "\n",
    "df = pd.read_csv(\"titanic_data.csv\")\n",
    "df.describe()"
   ]
  },
  {
   "cell_type": "markdown",
   "metadata": {},
   "source": [
    "We see that we have 891 passengers and that about 38% survived. The age columns does seem to have quite a lot of missing values.\n",
    "\n",
    "Lets look at the first five passengers to get a feel for the data:"
   ]
  },
  {
   "cell_type": "code",
   "execution_count": 4,
   "metadata": {
    "collapsed": false
   },
   "outputs": [
    {
     "data": {
      "text/html": [
       "<div>\n",
       "<table border=\"1\" class=\"dataframe\">\n",
       "  <thead>\n",
       "    <tr style=\"text-align: right;\">\n",
       "      <th></th>\n",
       "      <th>PassengerId</th>\n",
       "      <th>Survived</th>\n",
       "      <th>Pclass</th>\n",
       "      <th>Name</th>\n",
       "      <th>Sex</th>\n",
       "      <th>Age</th>\n",
       "      <th>SibSp</th>\n",
       "      <th>Parch</th>\n",
       "      <th>Ticket</th>\n",
       "      <th>Fare</th>\n",
       "      <th>Cabin</th>\n",
       "      <th>Embarked</th>\n",
       "    </tr>\n",
       "  </thead>\n",
       "  <tbody>\n",
       "    <tr>\n",
       "      <th>0</th>\n",
       "      <td>1</td>\n",
       "      <td>0</td>\n",
       "      <td>3</td>\n",
       "      <td>Braund, Mr. Owen Harris</td>\n",
       "      <td>male</td>\n",
       "      <td>22</td>\n",
       "      <td>1</td>\n",
       "      <td>0</td>\n",
       "      <td>A/5 21171</td>\n",
       "      <td>7.2500</td>\n",
       "      <td>NaN</td>\n",
       "      <td>S</td>\n",
       "    </tr>\n",
       "    <tr>\n",
       "      <th>1</th>\n",
       "      <td>2</td>\n",
       "      <td>1</td>\n",
       "      <td>1</td>\n",
       "      <td>Cumings, Mrs. John Bradley (Florence Briggs Th...</td>\n",
       "      <td>female</td>\n",
       "      <td>38</td>\n",
       "      <td>1</td>\n",
       "      <td>0</td>\n",
       "      <td>PC 17599</td>\n",
       "      <td>71.2833</td>\n",
       "      <td>C85</td>\n",
       "      <td>C</td>\n",
       "    </tr>\n",
       "    <tr>\n",
       "      <th>2</th>\n",
       "      <td>3</td>\n",
       "      <td>1</td>\n",
       "      <td>3</td>\n",
       "      <td>Heikkinen, Miss. Laina</td>\n",
       "      <td>female</td>\n",
       "      <td>26</td>\n",
       "      <td>0</td>\n",
       "      <td>0</td>\n",
       "      <td>STON/O2. 3101282</td>\n",
       "      <td>7.9250</td>\n",
       "      <td>NaN</td>\n",
       "      <td>S</td>\n",
       "    </tr>\n",
       "    <tr>\n",
       "      <th>3</th>\n",
       "      <td>4</td>\n",
       "      <td>1</td>\n",
       "      <td>1</td>\n",
       "      <td>Futrelle, Mrs. Jacques Heath (Lily May Peel)</td>\n",
       "      <td>female</td>\n",
       "      <td>35</td>\n",
       "      <td>1</td>\n",
       "      <td>0</td>\n",
       "      <td>113803</td>\n",
       "      <td>53.1000</td>\n",
       "      <td>C123</td>\n",
       "      <td>S</td>\n",
       "    </tr>\n",
       "    <tr>\n",
       "      <th>4</th>\n",
       "      <td>5</td>\n",
       "      <td>0</td>\n",
       "      <td>3</td>\n",
       "      <td>Allen, Mr. William Henry</td>\n",
       "      <td>male</td>\n",
       "      <td>35</td>\n",
       "      <td>0</td>\n",
       "      <td>0</td>\n",
       "      <td>373450</td>\n",
       "      <td>8.0500</td>\n",
       "      <td>NaN</td>\n",
       "      <td>S</td>\n",
       "    </tr>\n",
       "  </tbody>\n",
       "</table>\n",
       "</div>"
      ],
      "text/plain": [
       "   PassengerId  Survived  Pclass  \\\n",
       "0            1         0       3   \n",
       "1            2         1       1   \n",
       "2            3         1       3   \n",
       "3            4         1       1   \n",
       "4            5         0       3   \n",
       "\n",
       "                                                Name     Sex  Age  SibSp  \\\n",
       "0                            Braund, Mr. Owen Harris    male   22      1   \n",
       "1  Cumings, Mrs. John Bradley (Florence Briggs Th...  female   38      1   \n",
       "2                             Heikkinen, Miss. Laina  female   26      0   \n",
       "3       Futrelle, Mrs. Jacques Heath (Lily May Peel)  female   35      1   \n",
       "4                           Allen, Mr. William Henry    male   35      0   \n",
       "\n",
       "   Parch            Ticket     Fare Cabin Embarked  \n",
       "0      0         A/5 21171   7.2500   NaN        S  \n",
       "1      0          PC 17599  71.2833   C85        C  \n",
       "2      0  STON/O2. 3101282   7.9250   NaN        S  \n",
       "3      0            113803  53.1000  C123        S  \n",
       "4      0            373450   8.0500   NaN        S  "
      ]
     },
     "execution_count": 4,
     "metadata": {},
     "output_type": "execute_result"
    }
   ],
   "source": [
    "df.head()"
   ]
  },
  {
   "cell_type": "markdown",
   "metadata": {},
   "source": [
    "## Data Wrangling\n",
    "\n",
    "For our purposes, we need the columns 'Survived', 'Pclass', 'Sex' and 'Embarked'. While the information about 'Age' and 'Fare' would allow to explore interesting other questions, for our questions, they are of no use. Lets make a smaller data frame containing only the data we need."
   ]
  },
  {
   "cell_type": "code",
   "execution_count": 36,
   "metadata": {
    "collapsed": false
   },
   "outputs": [
    {
     "name": "stdout",
     "output_type": "stream",
     "text": [
      "   Survived  Pclass     Sex Embarked\n",
      "0         0       3    male        S\n",
      "1         1       1  female        C\n",
      "2         1       3  female        S\n",
      "3         1       1  female        S\n",
      "4         0       3    male        S\n"
     ]
    },
    {
     "data": {
      "text/plain": [
       "891"
      ]
     },
     "execution_count": 36,
     "metadata": {},
     "output_type": "execute_result"
    }
   ],
   "source": [
    "data = df[['Survived', 'Pclass', 'Sex', 'Embarked']]\n",
    "print(data.head())\n",
    "len(data)"
   ]
  },
  {
   "cell_type": "markdown",
   "metadata": {},
   "source": [
    "OK. So we have a dataset containing only the data we need. Let us check for missing values:"
   ]
  },
  {
   "cell_type": "code",
   "execution_count": 37,
   "metadata": {
    "collapsed": false
   },
   "outputs": [
    {
     "data": {
      "text/plain": [
       "Survived    0\n",
       "Pclass      0\n",
       "Sex         0\n",
       "Embarked    2\n",
       "dtype: int64"
      ]
     },
     "execution_count": 37,
     "metadata": {},
     "output_type": "execute_result"
    }
   ],
   "source": [
    "sum(data.isnull())"
   ]
  },
  {
   "cell_type": "markdown",
   "metadata": {},
   "source": [
    "Two values for 'Embarked' are missing. Let us exclude these two passengers."
   ]
  },
  {
   "cell_type": "code",
   "execution_count": 39,
   "metadata": {
    "collapsed": false
   },
   "outputs": [
    {
     "data": {
      "text/plain": [
       "Survived    0\n",
       "Pclass      0\n",
       "Sex         0\n",
       "Embarked    0\n",
       "dtype: int64"
      ]
     },
     "execution_count": 39,
     "metadata": {},
     "output_type": "execute_result"
    }
   ],
   "source": [
    "data = data.dropna()\n",
    "sum(data.isnull())"
   ]
  },
  {
   "cell_type": "markdown",
   "metadata": {},
   "source": [
    "Very well, there are no missing values."
   ]
  },
  {
   "cell_type": "markdown",
   "metadata": {},
   "source": [
    "## Data Analysis\n",
    "\n",
    "We start our analysis by getting some descriptive statistics of our dataset."
   ]
  },
  {
   "cell_type": "code",
   "execution_count": 9,
   "metadata": {
    "collapsed": false
   },
   "outputs": [
    {
     "data": {
      "text/html": [
       "<div>\n",
       "<table border=\"1\" class=\"dataframe\">\n",
       "  <thead>\n",
       "    <tr style=\"text-align: right;\">\n",
       "      <th></th>\n",
       "      <th>Survived</th>\n",
       "      <th>Pclass</th>\n",
       "    </tr>\n",
       "  </thead>\n",
       "  <tbody>\n",
       "    <tr>\n",
       "      <th>count</th>\n",
       "      <td>889.000000</td>\n",
       "      <td>889.000000</td>\n",
       "    </tr>\n",
       "    <tr>\n",
       "      <th>mean</th>\n",
       "      <td>0.382452</td>\n",
       "      <td>2.311586</td>\n",
       "    </tr>\n",
       "    <tr>\n",
       "      <th>std</th>\n",
       "      <td>0.486260</td>\n",
       "      <td>0.834700</td>\n",
       "    </tr>\n",
       "    <tr>\n",
       "      <th>min</th>\n",
       "      <td>0.000000</td>\n",
       "      <td>1.000000</td>\n",
       "    </tr>\n",
       "    <tr>\n",
       "      <th>25%</th>\n",
       "      <td>0.000000</td>\n",
       "      <td>2.000000</td>\n",
       "    </tr>\n",
       "    <tr>\n",
       "      <th>50%</th>\n",
       "      <td>0.000000</td>\n",
       "      <td>3.000000</td>\n",
       "    </tr>\n",
       "    <tr>\n",
       "      <th>75%</th>\n",
       "      <td>1.000000</td>\n",
       "      <td>3.000000</td>\n",
       "    </tr>\n",
       "    <tr>\n",
       "      <th>max</th>\n",
       "      <td>1.000000</td>\n",
       "      <td>3.000000</td>\n",
       "    </tr>\n",
       "  </tbody>\n",
       "</table>\n",
       "</div>"
      ],
      "text/plain": [
       "         Survived      Pclass\n",
       "count  889.000000  889.000000\n",
       "mean     0.382452    2.311586\n",
       "std      0.486260    0.834700\n",
       "min      0.000000    1.000000\n",
       "25%      0.000000    2.000000\n",
       "50%      0.000000    3.000000\n",
       "75%      1.000000    3.000000\n",
       "max      1.000000    3.000000"
      ]
     },
     "execution_count": 9,
     "metadata": {},
     "output_type": "execute_result"
    }
   ],
   "source": [
    "data.describe()"
   ]
  },
  {
   "cell_type": "markdown",
   "metadata": {},
   "source": [
    "Lets see how many passengers were in each different factor:"
   ]
  },
  {
   "cell_type": "code",
   "execution_count": 93,
   "metadata": {
    "collapsed": false
   },
   "outputs": [
    {
     "data": {
      "text/plain": [
       "Pclass\n",
       "1    214\n",
       "2    184\n",
       "3    491\n",
       "Name: Pclass, dtype: int64"
      ]
     },
     "execution_count": 93,
     "metadata": {},
     "output_type": "execute_result"
    }
   ],
   "source": [
    "data.groupby('Pclass')['Pclass'].count()"
   ]
  },
  {
   "cell_type": "code",
   "execution_count": 90,
   "metadata": {
    "collapsed": false
   },
   "outputs": [
    {
     "data": {
      "text/plain": [
       "Sex\n",
       "female    312\n",
       "male      577\n",
       "Name: Sex, dtype: int64"
      ]
     },
     "execution_count": 90,
     "metadata": {},
     "output_type": "execute_result"
    }
   ],
   "source": [
    "data.groupby('Sex')['Sex'].count()"
   ]
  },
  {
   "cell_type": "code",
   "execution_count": 92,
   "metadata": {
    "collapsed": false
   },
   "outputs": [
    {
     "data": {
      "text/plain": [
       "Embarked\n",
       "C    168\n",
       "Q     77\n",
       "S    644\n",
       "Name: Embarked, dtype: int64"
      ]
     },
     "execution_count": 92,
     "metadata": {},
     "output_type": "execute_result"
    }
   ],
   "source": [
    "data.groupby('Embarked')['Embarked'].count()"
   ]
  },
  {
   "cell_type": "markdown",
   "metadata": {},
   "source": [
    "### Survival Rates per Class"
   ]
  },
  {
   "cell_type": "code",
   "execution_count": 198,
   "metadata": {
    "collapsed": false
   },
   "outputs": [
    {
     "name": "stdout",
     "output_type": "stream",
     "text": [
      "63% Class 1 survival rate\n",
      "47% Class 2 survival rate\n",
      "24% Class 3 survival rate\n"
     ]
    },
    {
     "data": {
      "image/png": "[encoded data removed]",
      "text/plain": [
       "<matplotlib.figure.Figure at 0x25dbe907ac8>"
      ]
     },
     "metadata": {},
     "output_type": "display_data"
    }
   ],
   "source": [
    "srate_per_class = data.groupby('Pclass')['Survived'].mean()\n",
    "print('%.0f%% Class 1 survival rate' % (srate_per_class[1] * 100))\n",
    "print('%.0f%% Class 2 survival rate' % (srate_per_class[2] * 100))\n",
    "print('%.0f%% Class 3 survival rate' % (srate_per_class[3] * 100))\n",
    "plt_srate_per_class = srate_per_class.plot(kind='bar', \\\n",
    "                                           color=['red', 'green', 'blue'], \\\n",
    "                                           title='Survival Rate by Class')\n",
    "label = plt_srate_per_class.set_ylabel('Survival Rate')"
   ]
  },
  {
   "cell_type": "markdown",
   "metadata": {},
   "source": [
    "So we can answer the first question: the survival rates of the three different classes are quite different.\n",
    "\n",
    "One suggestion is, that the much higher survival rate of first class passengers is due to preferred evacuation. But it is also possible, that e.g. the third class had cabins lower in the ship and that this fact contributed to their much lower survival rate. In any case, these analyses only show correlation and never causation."
   ]
  },
  {
   "cell_type": "markdown",
   "metadata": {},
   "source": [
    "### Survival Rates per Sex"
   ]
  },
  {
   "cell_type": "code",
   "execution_count": 200,
   "metadata": {
    "collapsed": false
   },
   "outputs": [
    {
     "name": "stdout",
     "output_type": "stream",
     "text": [
      "74% female survival rate\n",
      "19% male   survival rate\n"
     ]
    },
    {
     "data": {
      "image/png": "[encoded data removed]",
      "text/plain": [
       "<matplotlib.figure.Figure at 0x25dbe6e3438>"
      ]
     },
     "metadata": {},
     "output_type": "display_data"
    }
   ],
   "source": [
    "srate_per_sex = data.groupby('Sex')['Survived'].mean()\n",
    "print(\"%.0f%% female survival rate\" % (srate_per_sex.female * 100))\n",
    "print(\"%.0f%% male   survival rate\" % (srate_per_sex.male * 100))\n",
    "plt_srate_per_sex = data2.plot(kind='bar', \\\n",
    "                               color=['red', 'blue'],\n",
    "                               title='Survival Rate by Sex')\n",
    "label = plt_srate_per_sex.set_ylabel('Survival Rate')"
   ]
  },
  {
   "cell_type": "markdown",
   "metadata": {},
   "source": [
    "The second question can be answered: Females had a much, much higher survival rate (74%) than males (19%).\n",
    "\n",
    "This suggests that the customary 'women and children first' policy was followed to a large extent. In fact, there are reports that at least on one side of the ship men were not allowed to board life boats, even when they were half-empty and no children or women were at hand.\n",
    "\n",
    "But how do the absolute numbers look like:"
   ]
  },
  {
   "cell_type": "code",
   "execution_count": 203,
   "metadata": {
    "collapsed": false
   },
   "outputs": [
    {
     "name": "stdout",
     "output_type": "stream",
     "text": [
      "68% female\n"
     ]
    },
    {
     "data": {
      "image/png": "[encoded data removed]",
      "text/plain": [
       "<matplotlib.figure.Figure at 0x25dbe49e198>"
      ]
     },
     "metadata": {},
     "output_type": "display_data"
    }
   ],
   "source": [
    "sex_proportion_ = data[data.Survived == 1].groupby('Sex')['Survived'].apply(lambda s: s.count() / sum(data.Survived == 1))\n",
    "sex_proportion = DataFrame({'female': [sex_proportion_.female], 'male': [sex_proportion_.male]})\n",
    "print(\"%.0f%% female\" % (sex_proportion.female * 100))\n",
    "plt_sex_proportion = sex_proportion.plot(kind='barh', \\\n",
    "                                         stacked=True, \\\n",
    "                                         title='Male/Female Survivor Proportion')"
   ]
  },
  {
   "cell_type": "markdown",
   "metadata": {},
   "source": [
    "So about 68% of survivors were women. The lower percentage is due to the lower proportion of women in the passenger population:"
   ]
  },
  {
   "cell_type": "code",
   "execution_count": 204,
   "metadata": {
    "collapsed": false
   },
   "outputs": [
    {
     "name": "stdout",
     "output_type": "stream",
     "text": [
      "35% female\n"
     ]
    },
    {
     "data": {
      "image/png": "[encoded data removed]",
      "text/plain": [
       "<matplotlib.figure.Figure at 0x25dbe2fab00>"
      ]
     },
     "metadata": {},
     "output_type": "display_data"
    }
   ],
   "source": [
    "passenger_proportion_ = data.groupby('Sex')['Survived'].apply(lambda s: s.count() / data.Survived.count())\n",
    "passenger_proportion = DataFrame({'female': [passenger_proportion_.female], 'male': [passenger_proportion_.male]})\n",
    "print(\"%.0f%% female\" % (passenger_proportion.female * 100))\n",
    "plt_passenger_proportion = passenger_proportion.plot(kind='barh', \\\n",
    "                                                     stacked=True, \\\n",
    "                                                     title='Male/Female Passenger Proportion')"
   ]
  },
  {
   "cell_type": "markdown",
   "metadata": {},
   "source": [
    "Only 35% of the passengers were females."
   ]
  },
  {
   "cell_type": "markdown",
   "metadata": {},
   "source": [
    "### Survival Rates per Embarkment Site"
   ]
  },
  {
   "cell_type": "code",
   "execution_count": 208,
   "metadata": {
    "collapsed": false
   },
   "outputs": [
    {
     "name": "stdout",
     "output_type": "stream",
     "text": [
      "55% survival rate for Cherbourg\n",
      "39% survival rate for Queenstown\n",
      "34% survival rate for Southampton\n"
     ]
    },
    {
     "data": {
      "image/png": "[encoded data removed]",
      "text/plain": [
       "<matplotlib.figure.Figure at 0x25dbe48f6d8>"
      ]
     },
     "metadata": {},
     "output_type": "display_data"
    }
   ],
   "source": [
    "srate_per_site = data.groupby('Embarked')['Survived'].mean()\n",
    "print('%.f%% survival rate for Cherbourg' % (srate_per_site.C * 100))\n",
    "print('%.f%% survival rate for Queenstown' % (srate_per_site.Q * 100))\n",
    "print('%.f%% survival rate for Southampton' % (srate_per_site.S * 100))\n",
    "plt_srate_per_site = srate_per_site.plot(kind='bar', \\\n",
    "                                         color=['red', 'green', 'blue'], \\\n",
    "                                         title='Survival Rate by Embarkment Site')\n",
    "label = plt_srate_per_site.set_ylabel('Survival rate')"
   ]
  },
  {
   "cell_type": "markdown",
   "metadata": {},
   "source": [
    "The answer to our third question is interesting: There is quite a large difference in survival rates depending on the embarkment site."
   ]
  },
  {
   "cell_type": "markdown",
   "metadata": {},
   "source": [
    "I did not expect this. I thought that class and sex do have a large influence, but that the site Cherbourg had such a high survival rate related to the other two embarkement sites surprised me.\n",
    "\n",
    "I want to do two things. Firstly, I want to perform a statistical test to see whether this difference is significant or not. And secondly I want to analyze further why this might happen."
   ]
  },
  {
   "cell_type": "markdown",
   "metadata": {},
   "source": [
    "#### Statistical Test\n",
    "\n",
    "I want to test whether the difference between the survival rates of the different embarkment sites are statistically significant at level $\\alpha = 0.05$. As I already know that the survival rate for Cherbourg is higher than for Queenstown, I will perform a one-sided test.\n",
    "\n",
    "The null and alternative hypothesis are:\n",
    "\n",
    "$$\n",
    "H_0: \\mu_C - \\mu_Q \\le 0\n",
    "$$\n",
    "\n",
    "$$\n",
    "H_1: \\mu_C - \\mu_Q \\gt 0\n",
    "$$\n",
    "\n",
    "where $\\mu_C$ is the mean survival for Cherbourg and $\\mu_Q$ is the mean survival for Queenstown.\n",
    "\n",
    "The population standard deviations are not known. The samples are larger than 30 elements and thus can be assumed to be normal distributed. Therefore, I perform a **one sided t-test at significance level 0.05**.\n",
    "\n",
    "Since the difference in means for Cherbourg and Southampton is even larger than between Cherbourg and Queenstown, I do not perform a separate test for this case."
   ]
  },
  {
   "cell_type": "code",
   "execution_count": 84,
   "metadata": {
    "collapsed": false
   },
   "outputs": [
    {
     "name": "stdout",
     "output_type": "stream",
     "text": [
      "x_diff = 0.163961, sigma_diff = 0.068257\n",
      "t_crit = 1.651148\n",
      "t_test = 2.402121\n"
     ]
    }
   ],
   "source": [
    "sigma = data.Survived.std()\n",
    "c = data[data.Embarked == 'C'].Survived\n",
    "q = data[data.Embarked == 'Q'].Survived\n",
    "x_diff = c.mean() - q.mean()\n",
    "sigma_diff = sqrt(c.std()**2 / (c.count() - 1) + q.std()**2 / (q.count() - 1))\n",
    "print(\"x_diff = %f, sigma_diff = %f\" % (x_diff, sigma_diff))\n",
    "import scipy.stats\n",
    "t_crit = scipy.stats.t.ppf(0.95, df=(c.count() + q.count() - 2))\n",
    "print(\"t_crit = %f\" % t_crit)\n",
    "print(\"t_test = %f\" % (x_diff / sigma_diff))"
   ]
  },
  {
   "cell_type": "markdown",
   "metadata": {},
   "source": [
    "Since t_test = 2.4 > 1.65 = t_crit the **difference in the means is statistically significant at level $< 0.05$**."
   ]
  },
  {
   "cell_type": "markdown",
   "metadata": {},
   "source": [
    "To cross-check this result, I perform the t-test using the appropriate method in scipy.stats."
   ]
  },
  {
   "cell_type": "code",
   "execution_count": 85,
   "metadata": {
    "collapsed": false
   },
   "outputs": [
    {
     "data": {
      "text/plain": [
       "Ttest_indResult(statistic=2.4010594208034917, pvalue=0.017100079516725354)"
      ]
     },
     "execution_count": 85,
     "metadata": {},
     "output_type": "execute_result"
    }
   ],
   "source": [
    "scipy.stats.ttest_ind(c, q)"
   ]
  },
  {
   "cell_type": "markdown",
   "metadata": {},
   "source": [
    "As we can see, the t-value is the same (ignoring numerical inaccurencies) and the (two-tailed) p-value is 0.017."
   ]
  },
  {
   "cell_type": "markdown",
   "metadata": {},
   "source": [
    "#### Further analysis related to the Embarkment difference\n",
    "\n",
    "How are the Pclass distributions for each Embarkment? Does this maybe explain the much higher survival rate of passengers embarked at Cherbourg?"
   ]
  },
  {
   "cell_type": "code",
   "execution_count": 218,
   "metadata": {
    "collapsed": false
   },
   "outputs": [],
   "source": [
    "class_cherbourg   = data[data.Embarked == 'C'].groupby('Pclass')['Pclass'].count()\n",
    "class_queenstown  = data[data.Embarked == 'Q'].groupby('Pclass')['Pclass'].count()\n",
    "class_southampton = data[data.Embarked == 'S'].groupby('Pclass')['Pclass'].count()\n"
   ]
  },
  {
   "cell_type": "code",
   "execution_count": 249,
   "metadata": {
    "collapsed": false
   },
   "outputs": [
    {
     "data": {
      "image/png": "[encoded data removed]",
      "text/plain": [
       "<matplotlib.figure.Figure at 0x25dbe381cf8>"
      ]
     },
     "metadata": {},
     "output_type": "display_data"
    }
   ],
   "source": [
    "plt.figure(1)\n",
    "plt.subplots_adjust(right=1.5)\n",
    "plt.subplot(131)\n",
    "plt_class_cherbourg = class_cherbourg.plot(kind='bar', \\\n",
    "                                           color=['red', 'green', 'blue'], \\\n",
    "                                           title='Cherbourg')\n",
    "plt_class_cherbourg.set_ylabel('# passengers')\n",
    "plt.ylim(0, 400)\n",
    "plt.subplot(132)\n",
    "plt_class_queenstown = class_queenstown.plot(kind='bar', \\\n",
    "                                             color=['red', 'green', 'blue'], \\\n",
    "                                             title='Queenstown')\n",
    "plt.ylim(0, 400)\n",
    "plt.subplot(133)\n",
    "plt_class_southampton = class_southampton.plot(kind='bar', \\\n",
    "                                               color=['red', 'green', 'blue'], \\\n",
    "                                               title='Southampton')\n",
    "plt.ylim(0, 400)\n",
    "plt.show()"
   ]
  },
  {
   "cell_type": "markdown",
   "metadata": {},
   "source": [
    "The charts clearly show that in Cherbourg a majority of first class passengers embarked, while in the other cases, the third class passengers constitute the overwhelming majority."
   ]
  },
  {
   "cell_type": "markdown",
   "metadata": {},
   "source": [
    "Lets have a look at the survival rate by embarkement site and passenger class"
   ]
  },
  {
   "cell_type": "code",
   "execution_count": 252,
   "metadata": {
    "collapsed": false
   },
   "outputs": [
    {
     "data": {
      "image/png": "[encoded data removed]",
      "text/plain": [
       "<matplotlib.figure.Figure at 0x25dbe2cf9e8>"
      ]
     },
     "metadata": {},
     "output_type": "display_data"
    }
   ],
   "source": [
    "srate_per_site_class = data.groupby(['Pclass', 'Embarked']).mean()\n",
    "plt_srate_per_site_class = srate_per_site_class.plot(kind='bar', \\\n",
    "                                                     color=['red'] * 3 + ['green'] * 3 +['blue'] * 3, \\\n",
    "                                                     legend=None,\\\n",
    "                                                     title='Survival Rate by Class and Embarkment Site')\n",
    "label = plt_srate_per_site_class.set_ylabel('Survival Rate')"
   ]
  },
  {
   "cell_type": "markdown",
   "metadata": {},
   "source": [
    "There seems to be a negative correlation for the passenger class across all embarkement sites."
   ]
  },
  {
   "cell_type": "markdown",
   "metadata": {},
   "source": [
    "So this is a reasonable explanation for the difference in survival rates for the different embarkment sites. For each embarkment site, the survival rates tend to drop for higher classes."
   ]
  },
  {
   "cell_type": "markdown",
   "metadata": {},
   "source": [
    "## Conclusion\n",
    "\n",
    "This analysis answered the three initial questions.\n",
    "- Yes, the survival rates for men and women were dramatically different (female 74%, male 19%).\n",
    "- Yes, the survival rates for the three classes were also very different (first 63%, second 47%, third 24%).\n",
    "- Yes, surprisingly, the survival rates for the three embarkment sites differ significantly. This is correlated with different composition of passenger classes in the different embarkment sites.\n"
   ]
  },
  {
   "cell_type": "markdown",
   "metadata": {},
   "source": [
    "## Further Questions\n",
    "\n",
    "A variety of questions to explore come to mind:\n",
    "- Is the age of the passengers correlated with survival?\n",
    "- Is the fare correlated with survival?\n",
    "- Can we utilize the cabin information to gain more information, e.g. did starboard cabins have different survival rates than port side cabins?"
   ]
  },
  {
   "cell_type": "markdown",
   "metadata": {},
   "source": [
    "## References\n",
    "[1] https://www.udacity.com/\n",
    "\n",
    "[2] https://www.kaggle.com/\n",
    "\n",
    "[3] https://en.wikipedia.org/wiki/RMS_Titanic/"
   ]
  }
 ],
 "metadata": {
  "kernelspec": {
   "display_name": "Python 3",
   "language": "python",
   "name": "python3"
  },
  "language_info": {
   "codemirror_mode": {
    "name": "ipython",
    "version": 3
   },
   "file_extension": ".py",
   "mimetype": "text/x-python",
   "name": "python",
   "nbconvert_exporter": "python",
   "pygments_lexer": "ipython3",
   "version": "3.5.1"
  }
 },
 "nbformat": 4,
 "nbformat_minor": 0
}
